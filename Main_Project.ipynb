{
 "cells": [
  {
   "cell_type": "markdown",
   "metadata": {
    "colab_type": "text",
    "id": "-T6xRkndQX80"
   },
   "source": [
    "# Node Machine Learning Competition\n",
    "\n",
    "Every year, Node students engage in a friendly battle of machine learning models\n",
    "\n",
    "The Node staff finds a dataset, reserves a portion of it for testing and then gives you guys a training dataset\n",
    "\n",
    "This year, you all will be predicting whether or not it will rain tomorrow in Australia.\n",
    "\n",
    "You will be given a dataset in the csv file `node_s19_ml_competition_train.csv`. **The goal of this challenge is to predict the `RainTomorrow` column given every other column.**\n",
    "\n",
    "**Below is an example project containing an exploration section and a guide to how to submit your model**"
   ]
  },
  {
   "cell_type": "markdown",
   "metadata": {
    "colab_type": "text",
    "id": "BwoC-cEKQX81"
   },
   "source": [
    "# Experimentation\n",
    "\n",
    "The first step in every data science project is to simply experiment with your dataset\n",
    "\n",
    "Examine the dataset using `head()` and figure out what columns you want to drop or clean\n",
    "\n",
    "You may consider encoding different columns-- certain models cannot handle textual columns so you may need to encode them using `pd.get_dummies()` or `df.cat.codes`\n",
    "\n",
    "**Below, we walkthrough how you could potentially experiment using a `DummyClassifier`**"
   ]
  },
  {
   "cell_type": "code",
   "execution_count": 1,
   "metadata": {
    "colab": {
     "base_uri": "https://localhost:8080/",
     "height": 241
    },
    "colab_type": "code",
    "executionInfo": {
     "elapsed": 5583,
     "status": "ok",
     "timestamp": 1560450365387,
     "user": {
      "displayName": "Andrew Ni",
      "photoUrl": "",
      "userId": "17604479765167420078"
     },
     "user_tz": 240
    },
    "id": "kS7dmkVzQX82",
    "outputId": "850f7046-512a-43b5-fca6-7209101a0f61"
   },
   "outputs": [
    {
     "name": "stdout",
     "output_type": "stream",
     "text": [
      "Requirement already satisfied: seaborn==0.9.0 in /usr/local/lib/python3.6/dist-packages (0.9.0)\n",
      "Requirement already satisfied: numpy>=1.9.3 in /usr/local/lib/python3.6/dist-packages (from seaborn==0.9.0) (1.16.4)\n",
      "Requirement already satisfied: scipy>=0.14.0 in /usr/local/lib/python3.6/dist-packages (from seaborn==0.9.0) (1.3.0)\n",
      "Requirement already satisfied: matplotlib>=1.4.3 in /usr/local/lib/python3.6/dist-packages (from seaborn==0.9.0) (3.0.3)\n",
      "Requirement already satisfied: pandas>=0.15.2 in /usr/local/lib/python3.6/dist-packages (from seaborn==0.9.0) (0.24.2)\n",
      "Requirement already satisfied: kiwisolver>=1.0.1 in /usr/local/lib/python3.6/dist-packages (from matplotlib>=1.4.3->seaborn==0.9.0) (1.1.0)\n",
      "Requirement already satisfied: pyparsing!=2.0.4,!=2.1.2,!=2.1.6,>=2.0.1 in /usr/local/lib/python3.6/dist-packages (from matplotlib>=1.4.3->seaborn==0.9.0) (2.4.0)\n",
      "Requirement already satisfied: python-dateutil>=2.1 in /usr/local/lib/python3.6/dist-packages (from matplotlib>=1.4.3->seaborn==0.9.0) (2.5.3)\n",
      "Requirement already satisfied: cycler>=0.10 in /usr/local/lib/python3.6/dist-packages (from matplotlib>=1.4.3->seaborn==0.9.0) (0.10.0)\n",
      "Requirement already satisfied: pytz>=2011k in /usr/local/lib/python3.6/dist-packages (from pandas>=0.15.2->seaborn==0.9.0) (2018.9)\n",
      "Requirement already satisfied: setuptools in /usr/local/lib/python3.6/dist-packages (from kiwisolver>=1.0.1->matplotlib>=1.4.3->seaborn==0.9.0) (41.0.1)\n",
      "Requirement already satisfied: six>=1.5 in /usr/local/lib/python3.6/dist-packages (from python-dateutil>=2.1->matplotlib>=1.4.3->seaborn==0.9.0) (1.12.0)\n"
     ]
    }
   ],
   "source": [
    "import pandas as pd\n",
    "import numpy as np\n",
    "import matplotlib.pyplot as plt\n",
    "from sklearn.model_selection import train_test_split\n",
    "from sklearn.dummy import DummyClassifier\n",
    "\n",
    "!pip install seaborn==0.9.0 # you have to restart runtime to actually get to version 0.9.0\n",
    "import seaborn as sns\n",
    "from sklearn.linear_model import LinearRegression, LogisticRegression\n",
    "from sklearn.metrics import r2_score, accuracy_score, mean_squared_error\n",
    "\n",
    "\n",
    "# the two models we will be working with today\n",
    "from sklearn.tree import DecisionTreeClassifier\n",
    "from sklearn.ensemble import RandomForestClassifier\n",
    "\n",
    "\n",
    "# get the iris dataset\n",
    "from sklearn import datasets\n",
    "from sklearn import tree"
   ]
  },
  {
   "cell_type": "code",
   "execution_count": 2,
   "metadata": {
    "colab": {
     "base_uri": "https://localhost:8080/",
     "height": 309
    },
    "colab_type": "code",
    "executionInfo": {
     "elapsed": 1179,
     "status": "ok",
     "timestamp": 1560450371869,
     "user": {
      "displayName": "Andrew Ni",
      "photoUrl": "",
      "userId": "17604479765167420078"
     },
     "user_tz": 240
    },
    "id": "_1RgEtb0QX86",
    "outputId": "d019dbdb-16ec-41a1-a390-e9b39aea3857"
   },
   "outputs": [
    {
     "data": {
      "text/html": [
       "<div>\n",
       "<style scoped>\n",
       "    .dataframe tbody tr th:only-of-type {\n",
       "        vertical-align: middle;\n",
       "    }\n",
       "\n",
       "    .dataframe tbody tr th {\n",
       "        vertical-align: top;\n",
       "    }\n",
       "\n",
       "    .dataframe thead th {\n",
       "        text-align: right;\n",
       "    }\n",
       "</style>\n",
       "<table border=\"1\" class=\"dataframe\">\n",
       "  <thead>\n",
       "    <tr style=\"text-align: right;\">\n",
       "      <th></th>\n",
       "      <th>Date</th>\n",
       "      <th>MinTemp</th>\n",
       "      <th>MaxTemp</th>\n",
       "      <th>Rainfall</th>\n",
       "      <th>Evaporation</th>\n",
       "      <th>Sunshine</th>\n",
       "      <th>WindGustDir</th>\n",
       "      <th>WindGustSpeed</th>\n",
       "      <th>WindDir9am</th>\n",
       "      <th>WindDir3pm</th>\n",
       "      <th>WindSpeed9am</th>\n",
       "      <th>WindSpeed3pm</th>\n",
       "      <th>Humidity9am</th>\n",
       "      <th>Humidity3pm</th>\n",
       "      <th>Pressure9am</th>\n",
       "      <th>Pressure3pm</th>\n",
       "      <th>Cloud9am</th>\n",
       "      <th>Cloud3pm</th>\n",
       "      <th>Temp9am</th>\n",
       "      <th>Temp3pm</th>\n",
       "      <th>RainToday</th>\n",
       "      <th>RainTomorrow</th>\n",
       "    </tr>\n",
       "  </thead>\n",
       "  <tbody>\n",
       "    <tr>\n",
       "      <th>0</th>\n",
       "      <td>2009-07-31</td>\n",
       "      <td>3.8</td>\n",
       "      <td>21.1</td>\n",
       "      <td>0.0</td>\n",
       "      <td>2.4</td>\n",
       "      <td>9.7</td>\n",
       "      <td>SSW</td>\n",
       "      <td>19.0</td>\n",
       "      <td>NaN</td>\n",
       "      <td>S</td>\n",
       "      <td>0.0</td>\n",
       "      <td>11.0</td>\n",
       "      <td>74.0</td>\n",
       "      <td>38.0</td>\n",
       "      <td>1026.9</td>\n",
       "      <td>1023.9</td>\n",
       "      <td>1.0</td>\n",
       "      <td>0.0</td>\n",
       "      <td>11.7</td>\n",
       "      <td>20.2</td>\n",
       "      <td>No</td>\n",
       "      <td>No</td>\n",
       "    </tr>\n",
       "    <tr>\n",
       "      <th>1</th>\n",
       "      <td>2011-10-09</td>\n",
       "      <td>13.7</td>\n",
       "      <td>23.5</td>\n",
       "      <td>0.2</td>\n",
       "      <td>NaN</td>\n",
       "      <td>NaN</td>\n",
       "      <td>WSW</td>\n",
       "      <td>31.0</td>\n",
       "      <td>WNW</td>\n",
       "      <td>W</td>\n",
       "      <td>7.0</td>\n",
       "      <td>11.0</td>\n",
       "      <td>81.0</td>\n",
       "      <td>39.0</td>\n",
       "      <td>1008.6</td>\n",
       "      <td>1004.9</td>\n",
       "      <td>NaN</td>\n",
       "      <td>NaN</td>\n",
       "      <td>17.1</td>\n",
       "      <td>22.6</td>\n",
       "      <td>No</td>\n",
       "      <td>No</td>\n",
       "    </tr>\n",
       "    <tr>\n",
       "      <th>2</th>\n",
       "      <td>2011-10-25</td>\n",
       "      <td>2.8</td>\n",
       "      <td>16.5</td>\n",
       "      <td>2.2</td>\n",
       "      <td>3.4</td>\n",
       "      <td>11.1</td>\n",
       "      <td>SW</td>\n",
       "      <td>41.0</td>\n",
       "      <td>NNW</td>\n",
       "      <td>SE</td>\n",
       "      <td>19.0</td>\n",
       "      <td>9.0</td>\n",
       "      <td>55.0</td>\n",
       "      <td>41.0</td>\n",
       "      <td>1018.2</td>\n",
       "      <td>1016.9</td>\n",
       "      <td>NaN</td>\n",
       "      <td>NaN</td>\n",
       "      <td>8.7</td>\n",
       "      <td>15.6</td>\n",
       "      <td>Yes</td>\n",
       "      <td>No</td>\n",
       "    </tr>\n",
       "    <tr>\n",
       "      <th>3</th>\n",
       "      <td>2010-12-19</td>\n",
       "      <td>15.0</td>\n",
       "      <td>29.0</td>\n",
       "      <td>NaN</td>\n",
       "      <td>NaN</td>\n",
       "      <td>5.7</td>\n",
       "      <td>ESE</td>\n",
       "      <td>59.0</td>\n",
       "      <td>E</td>\n",
       "      <td>ESE</td>\n",
       "      <td>30.0</td>\n",
       "      <td>28.0</td>\n",
       "      <td>35.0</td>\n",
       "      <td>20.0</td>\n",
       "      <td>1012.0</td>\n",
       "      <td>1008.4</td>\n",
       "      <td>NaN</td>\n",
       "      <td>NaN</td>\n",
       "      <td>22.3</td>\n",
       "      <td>28.5</td>\n",
       "      <td>NaN</td>\n",
       "      <td>Yes</td>\n",
       "    </tr>\n",
       "    <tr>\n",
       "      <th>4</th>\n",
       "      <td>2016-02-05</td>\n",
       "      <td>16.3</td>\n",
       "      <td>32.0</td>\n",
       "      <td>0.0</td>\n",
       "      <td>5.4</td>\n",
       "      <td>12.9</td>\n",
       "      <td>NaN</td>\n",
       "      <td>NaN</td>\n",
       "      <td>E</td>\n",
       "      <td>NaN</td>\n",
       "      <td>4.0</td>\n",
       "      <td>NaN</td>\n",
       "      <td>80.0</td>\n",
       "      <td>NaN</td>\n",
       "      <td>1015.5</td>\n",
       "      <td>1014.7</td>\n",
       "      <td>0.0</td>\n",
       "      <td>NaN</td>\n",
       "      <td>21.0</td>\n",
       "      <td>NaN</td>\n",
       "      <td>No</td>\n",
       "      <td>No</td>\n",
       "    </tr>\n",
       "  </tbody>\n",
       "</table>\n",
       "</div>"
      ],
      "text/plain": [
       "         Date  MinTemp  MaxTemp  ...  Temp3pm  RainToday  RainTomorrow\n",
       "0  2009-07-31      3.8     21.1  ...     20.2         No            No\n",
       "1  2011-10-09     13.7     23.5  ...     22.6         No            No\n",
       "2  2011-10-25      2.8     16.5  ...     15.6        Yes            No\n",
       "3  2010-12-19     15.0     29.0  ...     28.5        NaN           Yes\n",
       "4  2016-02-05     16.3     32.0  ...      NaN         No            No\n",
       "\n",
       "[5 rows x 22 columns]"
      ]
     },
     "execution_count": 2,
     "metadata": {
      "tags": []
     },
     "output_type": "execute_result"
    }
   ],
   "source": [
    "train_dataset_filename = 'https://gist.githubusercontent.com/brian-yu/1d59e660bbad32ff918b81aaee2a9f87/raw/d6335dd483e4b2b39746e7f159a4bf845541f561/node_s19_ml_competition_train.csv'\n",
    "rain_raw = pd.read_csv(train_dataset_filename)\n",
    "rain_raw.head()"
   ]
  },
  {
   "cell_type": "code",
   "execution_count": 3,
   "metadata": {
    "colab": {
     "base_uri": "https://localhost:8080/",
     "height": 224
    },
    "colab_type": "code",
    "executionInfo": {
     "elapsed": 299,
     "status": "ok",
     "timestamp": 1560450377329,
     "user": {
      "displayName": "Andrew Ni",
      "photoUrl": "",
      "userId": "17604479765167420078"
     },
     "user_tz": 240
    },
    "id": "k96PD2afQX9A",
    "outputId": "1c908300-70de-45a1-ea4b-58e9f3f0a1b5"
   },
   "outputs": [
    {
     "data": {
      "text/html": [
       "<div>\n",
       "<style scoped>\n",
       "    .dataframe tbody tr th:only-of-type {\n",
       "        vertical-align: middle;\n",
       "    }\n",
       "\n",
       "    .dataframe tbody tr th {\n",
       "        vertical-align: top;\n",
       "    }\n",
       "\n",
       "    .dataframe thead th {\n",
       "        text-align: right;\n",
       "    }\n",
       "</style>\n",
       "<table border=\"1\" class=\"dataframe\">\n",
       "  <thead>\n",
       "    <tr style=\"text-align: right;\">\n",
       "      <th></th>\n",
       "      <th>MinTemp</th>\n",
       "      <th>MaxTemp</th>\n",
       "      <th>Rainfall</th>\n",
       "      <th>Evaporation</th>\n",
       "      <th>Sunshine</th>\n",
       "      <th>WindGustDir</th>\n",
       "      <th>WindGustSpeed</th>\n",
       "      <th>WindDir9am</th>\n",
       "      <th>WindDir3pm</th>\n",
       "      <th>WindSpeed9am</th>\n",
       "      <th>WindSpeed3pm</th>\n",
       "      <th>Humidity9am</th>\n",
       "      <th>Humidity3pm</th>\n",
       "      <th>Pressure9am</th>\n",
       "      <th>Pressure3pm</th>\n",
       "      <th>Cloud9am</th>\n",
       "      <th>Cloud3pm</th>\n",
       "      <th>Temp9am</th>\n",
       "      <th>Temp3pm</th>\n",
       "      <th>RainToday</th>\n",
       "      <th>RainTomorrow</th>\n",
       "    </tr>\n",
       "  </thead>\n",
       "  <tbody>\n",
       "    <tr>\n",
       "      <th>9</th>\n",
       "      <td>3.2</td>\n",
       "      <td>12.1</td>\n",
       "      <td>0.0</td>\n",
       "      <td>2.8</td>\n",
       "      <td>3.9</td>\n",
       "      <td>ESE</td>\n",
       "      <td>41.0</td>\n",
       "      <td>SE</td>\n",
       "      <td>SE</td>\n",
       "      <td>17.0</td>\n",
       "      <td>20.0</td>\n",
       "      <td>69.0</td>\n",
       "      <td>51.0</td>\n",
       "      <td>1033.6</td>\n",
       "      <td>1033.2</td>\n",
       "      <td>7.0</td>\n",
       "      <td>5.0</td>\n",
       "      <td>9.3</td>\n",
       "      <td>11.1</td>\n",
       "      <td>No</td>\n",
       "      <td>No</td>\n",
       "    </tr>\n",
       "    <tr>\n",
       "      <th>10</th>\n",
       "      <td>8.9</td>\n",
       "      <td>21.5</td>\n",
       "      <td>0.0</td>\n",
       "      <td>2.6</td>\n",
       "      <td>4.5</td>\n",
       "      <td>WSW</td>\n",
       "      <td>20.0</td>\n",
       "      <td>NNE</td>\n",
       "      <td>W</td>\n",
       "      <td>9.0</td>\n",
       "      <td>11.0</td>\n",
       "      <td>80.0</td>\n",
       "      <td>57.0</td>\n",
       "      <td>1021.8</td>\n",
       "      <td>1020.8</td>\n",
       "      <td>7.0</td>\n",
       "      <td>3.0</td>\n",
       "      <td>13.1</td>\n",
       "      <td>20.7</td>\n",
       "      <td>No</td>\n",
       "      <td>Yes</td>\n",
       "    </tr>\n",
       "    <tr>\n",
       "      <th>11</th>\n",
       "      <td>23.1</td>\n",
       "      <td>32.5</td>\n",
       "      <td>0.0</td>\n",
       "      <td>9.8</td>\n",
       "      <td>9.9</td>\n",
       "      <td>NE</td>\n",
       "      <td>35.0</td>\n",
       "      <td>NNE</td>\n",
       "      <td>ENE</td>\n",
       "      <td>15.0</td>\n",
       "      <td>28.0</td>\n",
       "      <td>65.0</td>\n",
       "      <td>60.0</td>\n",
       "      <td>1012.7</td>\n",
       "      <td>1009.4</td>\n",
       "      <td>7.0</td>\n",
       "      <td>3.0</td>\n",
       "      <td>28.7</td>\n",
       "      <td>30.9</td>\n",
       "      <td>No</td>\n",
       "      <td>No</td>\n",
       "    </tr>\n",
       "    <tr>\n",
       "      <th>17</th>\n",
       "      <td>24.2</td>\n",
       "      <td>35.6</td>\n",
       "      <td>0.0</td>\n",
       "      <td>19.4</td>\n",
       "      <td>2.7</td>\n",
       "      <td>WSW</td>\n",
       "      <td>65.0</td>\n",
       "      <td>WSW</td>\n",
       "      <td>WNW</td>\n",
       "      <td>20.0</td>\n",
       "      <td>30.0</td>\n",
       "      <td>39.0</td>\n",
       "      <td>39.0</td>\n",
       "      <td>1004.4</td>\n",
       "      <td>1004.3</td>\n",
       "      <td>7.0</td>\n",
       "      <td>7.0</td>\n",
       "      <td>30.8</td>\n",
       "      <td>33.5</td>\n",
       "      <td>No</td>\n",
       "      <td>No</td>\n",
       "    </tr>\n",
       "    <tr>\n",
       "      <th>19</th>\n",
       "      <td>12.9</td>\n",
       "      <td>21.4</td>\n",
       "      <td>0.6</td>\n",
       "      <td>0.4</td>\n",
       "      <td>9.6</td>\n",
       "      <td>ESE</td>\n",
       "      <td>22.0</td>\n",
       "      <td>SW</td>\n",
       "      <td>ESE</td>\n",
       "      <td>4.0</td>\n",
       "      <td>9.0</td>\n",
       "      <td>76.0</td>\n",
       "      <td>57.0</td>\n",
       "      <td>1031.6</td>\n",
       "      <td>1029.4</td>\n",
       "      <td>3.0</td>\n",
       "      <td>2.0</td>\n",
       "      <td>16.6</td>\n",
       "      <td>19.5</td>\n",
       "      <td>No</td>\n",
       "      <td>No</td>\n",
       "    </tr>\n",
       "  </tbody>\n",
       "</table>\n",
       "</div>"
      ],
      "text/plain": [
       "    MinTemp  MaxTemp  Rainfall  ...  Temp3pm  RainToday RainTomorrow\n",
       "9       3.2     12.1       0.0  ...     11.1         No           No\n",
       "10      8.9     21.5       0.0  ...     20.7         No          Yes\n",
       "11     23.1     32.5       0.0  ...     30.9         No           No\n",
       "17     24.2     35.6       0.0  ...     33.5         No           No\n",
       "19     12.9     21.4       0.6  ...     19.5         No           No\n",
       "\n",
       "[5 rows x 21 columns]"
      ]
     },
     "execution_count": 3,
     "metadata": {
      "tags": []
     },
     "output_type": "execute_result"
    }
   ],
   "source": [
    "rain = rain_raw.drop(\"Date\", axis=1).dropna()\n",
    "rain.head()"
   ]
  },
  {
   "cell_type": "code",
   "execution_count": 0,
   "metadata": {
    "colab": {},
    "colab_type": "code",
    "id": "vWt2Q_6PQX9D"
   },
   "outputs": [],
   "source": [
    "# convert categorical string values to numerical\n",
    "\n",
    "rain[\"WindDir9am\"] = rain[\"WindDir9am\"].astype('category')\n",
    "rain[\"WindGustDir\"] = rain[\"WindGustDir\"].astype('category')\n",
    "rain[\"WindDir3pm\"] = rain[\"WindDir3pm\"].astype('category')\n",
    "rain[\"RainToday\"] = rain[\"RainToday\"].astype('category')\n",
    "rain[\"RainTomorrow\"] = rain[\"RainTomorrow\"].astype('category')\n",
    "\n",
    "rain[\"WindDir9am\"] = rain[\"WindDir9am\"].cat.codes\n",
    "rain[\"WindGustDir\"] = rain[\"WindGustDir\"].cat.codes\n",
    "rain[\"WindDir3pm\"] = rain[\"WindDir3pm\"].cat.codes\n",
    "rain[\"RainToday\"] = rain[\"RainToday\"].cat.codes\n",
    "rain[\"RainTomorrow\"] = rain[\"RainTomorrow\"].cat.codes"
   ]
  },
  {
   "cell_type": "code",
   "execution_count": 0,
   "metadata": {
    "colab": {
     "base_uri": "https://localhost:8080/",
     "height": 256
    },
    "colab_type": "code",
    "executionInfo": {
     "elapsed": 18532,
     "status": "ok",
     "timestamp": 1555451150317,
     "user": {
      "displayName": "Jenny Huang",
      "photoUrl": "",
      "userId": "02913568749514153326"
     },
     "user_tz": 240
    },
    "id": "HGRMP1ICQX9F",
    "outputId": "14d1c7ef-47ee-4bc3-d7f7-d7f99b4bfe8b"
   },
   "outputs": [
    {
     "data": {
      "text/html": [
       "<div>\n",
       "<style scoped>\n",
       "    .dataframe tbody tr th:only-of-type {\n",
       "        vertical-align: middle;\n",
       "    }\n",
       "\n",
       "    .dataframe tbody tr th {\n",
       "        vertical-align: top;\n",
       "    }\n",
       "\n",
       "    .dataframe thead th {\n",
       "        text-align: right;\n",
       "    }\n",
       "</style>\n",
       "<table border=\"1\" class=\"dataframe\">\n",
       "  <thead>\n",
       "    <tr style=\"text-align: right;\">\n",
       "      <th></th>\n",
       "      <th>MinTemp</th>\n",
       "      <th>MaxTemp</th>\n",
       "      <th>Rainfall</th>\n",
       "      <th>Evaporation</th>\n",
       "      <th>Sunshine</th>\n",
       "      <th>WindGustDir</th>\n",
       "      <th>WindGustSpeed</th>\n",
       "      <th>WindDir9am</th>\n",
       "      <th>WindDir3pm</th>\n",
       "      <th>WindSpeed9am</th>\n",
       "      <th>...</th>\n",
       "      <th>Humidity9am</th>\n",
       "      <th>Humidity3pm</th>\n",
       "      <th>Pressure9am</th>\n",
       "      <th>Pressure3pm</th>\n",
       "      <th>Cloud9am</th>\n",
       "      <th>Cloud3pm</th>\n",
       "      <th>Temp9am</th>\n",
       "      <th>Temp3pm</th>\n",
       "      <th>RainToday</th>\n",
       "      <th>RainTomorrow</th>\n",
       "    </tr>\n",
       "  </thead>\n",
       "  <tbody>\n",
       "    <tr>\n",
       "      <th>9</th>\n",
       "      <td>3.2</td>\n",
       "      <td>12.1</td>\n",
       "      <td>0.0</td>\n",
       "      <td>2.8</td>\n",
       "      <td>3.9</td>\n",
       "      <td>2</td>\n",
       "      <td>41.0</td>\n",
       "      <td>9</td>\n",
       "      <td>9</td>\n",
       "      <td>17.0</td>\n",
       "      <td>...</td>\n",
       "      <td>69.0</td>\n",
       "      <td>51.0</td>\n",
       "      <td>1033.6</td>\n",
       "      <td>1033.2</td>\n",
       "      <td>7.0</td>\n",
       "      <td>5.0</td>\n",
       "      <td>9.3</td>\n",
       "      <td>11.1</td>\n",
       "      <td>0</td>\n",
       "      <td>0</td>\n",
       "    </tr>\n",
       "    <tr>\n",
       "      <th>10</th>\n",
       "      <td>8.9</td>\n",
       "      <td>21.5</td>\n",
       "      <td>0.0</td>\n",
       "      <td>2.6</td>\n",
       "      <td>4.5</td>\n",
       "      <td>15</td>\n",
       "      <td>20.0</td>\n",
       "      <td>5</td>\n",
       "      <td>13</td>\n",
       "      <td>9.0</td>\n",
       "      <td>...</td>\n",
       "      <td>80.0</td>\n",
       "      <td>57.0</td>\n",
       "      <td>1021.8</td>\n",
       "      <td>1020.8</td>\n",
       "      <td>7.0</td>\n",
       "      <td>3.0</td>\n",
       "      <td>13.1</td>\n",
       "      <td>20.7</td>\n",
       "      <td>0</td>\n",
       "      <td>1</td>\n",
       "    </tr>\n",
       "    <tr>\n",
       "      <th>11</th>\n",
       "      <td>23.1</td>\n",
       "      <td>32.5</td>\n",
       "      <td>0.0</td>\n",
       "      <td>9.8</td>\n",
       "      <td>9.9</td>\n",
       "      <td>4</td>\n",
       "      <td>35.0</td>\n",
       "      <td>5</td>\n",
       "      <td>1</td>\n",
       "      <td>15.0</td>\n",
       "      <td>...</td>\n",
       "      <td>65.0</td>\n",
       "      <td>60.0</td>\n",
       "      <td>1012.7</td>\n",
       "      <td>1009.4</td>\n",
       "      <td>7.0</td>\n",
       "      <td>3.0</td>\n",
       "      <td>28.7</td>\n",
       "      <td>30.9</td>\n",
       "      <td>0</td>\n",
       "      <td>0</td>\n",
       "    </tr>\n",
       "    <tr>\n",
       "      <th>17</th>\n",
       "      <td>24.2</td>\n",
       "      <td>35.6</td>\n",
       "      <td>0.0</td>\n",
       "      <td>19.4</td>\n",
       "      <td>2.7</td>\n",
       "      <td>15</td>\n",
       "      <td>65.0</td>\n",
       "      <td>15</td>\n",
       "      <td>14</td>\n",
       "      <td>20.0</td>\n",
       "      <td>...</td>\n",
       "      <td>39.0</td>\n",
       "      <td>39.0</td>\n",
       "      <td>1004.4</td>\n",
       "      <td>1004.3</td>\n",
       "      <td>7.0</td>\n",
       "      <td>7.0</td>\n",
       "      <td>30.8</td>\n",
       "      <td>33.5</td>\n",
       "      <td>0</td>\n",
       "      <td>0</td>\n",
       "    </tr>\n",
       "    <tr>\n",
       "      <th>19</th>\n",
       "      <td>12.9</td>\n",
       "      <td>21.4</td>\n",
       "      <td>0.6</td>\n",
       "      <td>0.4</td>\n",
       "      <td>9.6</td>\n",
       "      <td>2</td>\n",
       "      <td>22.0</td>\n",
       "      <td>12</td>\n",
       "      <td>2</td>\n",
       "      <td>4.0</td>\n",
       "      <td>...</td>\n",
       "      <td>76.0</td>\n",
       "      <td>57.0</td>\n",
       "      <td>1031.6</td>\n",
       "      <td>1029.4</td>\n",
       "      <td>3.0</td>\n",
       "      <td>2.0</td>\n",
       "      <td>16.6</td>\n",
       "      <td>19.5</td>\n",
       "      <td>0</td>\n",
       "      <td>0</td>\n",
       "    </tr>\n",
       "  </tbody>\n",
       "</table>\n",
       "<p>5 rows × 21 columns</p>\n",
       "</div>"
      ],
      "text/plain": [
       "    MinTemp  MaxTemp  Rainfall  Evaporation  Sunshine  WindGustDir  \\\n",
       "9       3.2     12.1       0.0          2.8       3.9            2   \n",
       "10      8.9     21.5       0.0          2.6       4.5           15   \n",
       "11     23.1     32.5       0.0          9.8       9.9            4   \n",
       "17     24.2     35.6       0.0         19.4       2.7           15   \n",
       "19     12.9     21.4       0.6          0.4       9.6            2   \n",
       "\n",
       "    WindGustSpeed  WindDir9am  WindDir3pm  WindSpeed9am      ...       \\\n",
       "9            41.0           9           9          17.0      ...        \n",
       "10           20.0           5          13           9.0      ...        \n",
       "11           35.0           5           1          15.0      ...        \n",
       "17           65.0          15          14          20.0      ...        \n",
       "19           22.0          12           2           4.0      ...        \n",
       "\n",
       "    Humidity9am  Humidity3pm  Pressure9am  Pressure3pm  Cloud9am  Cloud3pm  \\\n",
       "9          69.0         51.0       1033.6       1033.2       7.0       5.0   \n",
       "10         80.0         57.0       1021.8       1020.8       7.0       3.0   \n",
       "11         65.0         60.0       1012.7       1009.4       7.0       3.0   \n",
       "17         39.0         39.0       1004.4       1004.3       7.0       7.0   \n",
       "19         76.0         57.0       1031.6       1029.4       3.0       2.0   \n",
       "\n",
       "    Temp9am  Temp3pm  RainToday  RainTomorrow  \n",
       "9       9.3     11.1          0             0  \n",
       "10     13.1     20.7          0             1  \n",
       "11     28.7     30.9          0             0  \n",
       "17     30.8     33.5          0             0  \n",
       "19     16.6     19.5          0             0  \n",
       "\n",
       "[5 rows x 21 columns]"
      ]
     },
     "execution_count": 6,
     "metadata": {
      "tags": []
     },
     "output_type": "execute_result"
    }
   ],
   "source": [
    "rain.head()\n",
    "\n"
   ]
  },
  {
   "cell_type": "markdown",
   "metadata": {
    "colab_type": "text",
    "id": "QEBV8CMojHfw"
   },
   "source": [
    "# Pair plot\n",
    "\n",
    "Tried to find correlations between different factors in the dataframe\n",
    "\n"
   ]
  },
  {
   "cell_type": "code",
   "execution_count": 5,
   "metadata": {
    "colab": {
     "base_uri": "https://localhost:8080/",
     "height": 839
    },
    "colab_type": "code",
    "executionInfo": {
     "elapsed": 7168,
     "status": "error",
     "timestamp": 1560450391338,
     "user": {
      "displayName": "Andrew Ni",
      "photoUrl": "",
      "userId": "17604479765167420078"
     },
     "user_tz": 240
    },
    "id": "lVsfSYAX5B64",
    "outputId": "f486cdc7-25c2-4956-c601-15a51c22d4d6"
   },
   "outputs": [
    {
     "ename": "KeyboardInterrupt",
     "evalue": "ignored",
     "output_type": "error",
     "traceback": [
      "\u001b[0;31m---------------------------------------------------------------------------\u001b[0m",
      "\u001b[0;31mKeyboardInterrupt\u001b[0m                         Traceback (most recent call last)",
      "\u001b[0;32m<ipython-input-5-d10989a0ca08>\u001b[0m in \u001b[0;36m<module>\u001b[0;34m()\u001b[0m\n\u001b[0;32m----> 1\u001b[0;31m \u001b[0msns\u001b[0m\u001b[0;34m.\u001b[0m\u001b[0mpairplot\u001b[0m\u001b[0;34m(\u001b[0m\u001b[0mrain\u001b[0m\u001b[0;34m,\u001b[0m\u001b[0mhue\u001b[0m\u001b[0;34m=\u001b[0m \u001b[0;34m'RainTomorrow'\u001b[0m\u001b[0;34m,\u001b[0m\u001b[0mvars\u001b[0m\u001b[0;34m=\u001b[0m \u001b[0;34m[\u001b[0m\u001b[0;34m'Evaporation'\u001b[0m\u001b[0;34m,\u001b[0m\u001b[0;34m'Sunshine'\u001b[0m\u001b[0;34m,\u001b[0m\u001b[0;34m'Rainfall'\u001b[0m\u001b[0;34m]\u001b[0m\u001b[0;34m)\u001b[0m\u001b[0;34m\u001b[0m\u001b[0;34m\u001b[0m\u001b[0m\n\u001b[0m",
      "\u001b[0;32m/usr/local/lib/python3.6/dist-packages/seaborn/axisgrid.py\u001b[0m in \u001b[0;36mpairplot\u001b[0;34m(data, hue, hue_order, palette, vars, x_vars, y_vars, kind, diag_kind, markers, height, aspect, dropna, plot_kws, diag_kws, grid_kws, size)\u001b[0m\n\u001b[1;32m   2126\u001b[0m     \u001b[0;31m# Add a legend\u001b[0m\u001b[0;34m\u001b[0m\u001b[0;34m\u001b[0m\u001b[0;34m\u001b[0m\u001b[0m\n\u001b[1;32m   2127\u001b[0m     \u001b[0;32mif\u001b[0m \u001b[0mhue\u001b[0m \u001b[0;32mis\u001b[0m \u001b[0;32mnot\u001b[0m \u001b[0;32mNone\u001b[0m\u001b[0;34m:\u001b[0m\u001b[0;34m\u001b[0m\u001b[0;34m\u001b[0m\u001b[0m\n\u001b[0;32m-> 2128\u001b[0;31m         \u001b[0mgrid\u001b[0m\u001b[0;34m.\u001b[0m\u001b[0madd_legend\u001b[0m\u001b[0;34m(\u001b[0m\u001b[0;34m)\u001b[0m\u001b[0;34m\u001b[0m\u001b[0;34m\u001b[0m\u001b[0m\n\u001b[0m\u001b[1;32m   2129\u001b[0m \u001b[0;34m\u001b[0m\u001b[0m\n\u001b[1;32m   2130\u001b[0m     \u001b[0;32mreturn\u001b[0m \u001b[0mgrid\u001b[0m\u001b[0;34m\u001b[0m\u001b[0;34m\u001b[0m\u001b[0m\n",
      "\u001b[0;32m/usr/local/lib/python3.6/dist-packages/seaborn/axisgrid.py\u001b[0m in \u001b[0;36madd_legend\u001b[0;34m(self, legend_data, title, label_order, **kwargs)\u001b[0m\n\u001b[1;32m    101\u001b[0m             \u001b[0;31m# Draw the plot again to get the new transformations\u001b[0m\u001b[0;34m\u001b[0m\u001b[0;34m\u001b[0m\u001b[0;34m\u001b[0m\u001b[0m\n\u001b[1;32m    102\u001b[0m             \u001b[0;32mif\u001b[0m \u001b[0mhasattr\u001b[0m\u001b[0;34m(\u001b[0m\u001b[0mself\u001b[0m\u001b[0;34m.\u001b[0m\u001b[0mfig\u001b[0m\u001b[0;34m.\u001b[0m\u001b[0mcanvas\u001b[0m\u001b[0;34m,\u001b[0m \u001b[0;34m\"get_renderer\"\u001b[0m\u001b[0;34m)\u001b[0m\u001b[0;34m:\u001b[0m\u001b[0;34m\u001b[0m\u001b[0;34m\u001b[0m\u001b[0m\n\u001b[0;32m--> 103\u001b[0;31m                 \u001b[0mself\u001b[0m\u001b[0;34m.\u001b[0m\u001b[0mfig\u001b[0m\u001b[0;34m.\u001b[0m\u001b[0mdraw\u001b[0m\u001b[0;34m(\u001b[0m\u001b[0mself\u001b[0m\u001b[0;34m.\u001b[0m\u001b[0mfig\u001b[0m\u001b[0;34m.\u001b[0m\u001b[0mcanvas\u001b[0m\u001b[0;34m.\u001b[0m\u001b[0mget_renderer\u001b[0m\u001b[0;34m(\u001b[0m\u001b[0;34m)\u001b[0m\u001b[0;34m)\u001b[0m\u001b[0;34m\u001b[0m\u001b[0;34m\u001b[0m\u001b[0m\n\u001b[0m\u001b[1;32m    104\u001b[0m \u001b[0;34m\u001b[0m\u001b[0m\n\u001b[1;32m    105\u001b[0m             \u001b[0;31m# Now calculate how much space we need on the right side\u001b[0m\u001b[0;34m\u001b[0m\u001b[0;34m\u001b[0m\u001b[0;34m\u001b[0m\u001b[0m\n",
      "\u001b[0;32m/usr/local/lib/python3.6/dist-packages/matplotlib/artist.py\u001b[0m in \u001b[0;36mdraw_wrapper\u001b[0;34m(artist, renderer, *args, **kwargs)\u001b[0m\n\u001b[1;32m     48\u001b[0m                 \u001b[0mrenderer\u001b[0m\u001b[0;34m.\u001b[0m\u001b[0mstart_filter\u001b[0m\u001b[0;34m(\u001b[0m\u001b[0;34m)\u001b[0m\u001b[0;34m\u001b[0m\u001b[0;34m\u001b[0m\u001b[0m\n\u001b[1;32m     49\u001b[0m \u001b[0;34m\u001b[0m\u001b[0m\n\u001b[0;32m---> 50\u001b[0;31m             \u001b[0;32mreturn\u001b[0m \u001b[0mdraw\u001b[0m\u001b[0;34m(\u001b[0m\u001b[0martist\u001b[0m\u001b[0;34m,\u001b[0m \u001b[0mrenderer\u001b[0m\u001b[0;34m,\u001b[0m \u001b[0;34m*\u001b[0m\u001b[0margs\u001b[0m\u001b[0;34m,\u001b[0m \u001b[0;34m**\u001b[0m\u001b[0mkwargs\u001b[0m\u001b[0;34m)\u001b[0m\u001b[0;34m\u001b[0m\u001b[0;34m\u001b[0m\u001b[0m\n\u001b[0m\u001b[1;32m     51\u001b[0m         \u001b[0;32mfinally\u001b[0m\u001b[0;34m:\u001b[0m\u001b[0;34m\u001b[0m\u001b[0;34m\u001b[0m\u001b[0m\n\u001b[1;32m     52\u001b[0m             \u001b[0;32mif\u001b[0m \u001b[0martist\u001b[0m\u001b[0;34m.\u001b[0m\u001b[0mget_agg_filter\u001b[0m\u001b[0;34m(\u001b[0m\u001b[0;34m)\u001b[0m \u001b[0;32mis\u001b[0m \u001b[0;32mnot\u001b[0m \u001b[0;32mNone\u001b[0m\u001b[0;34m:\u001b[0m\u001b[0;34m\u001b[0m\u001b[0;34m\u001b[0m\u001b[0m\n",
      "\u001b[0;32m/usr/local/lib/python3.6/dist-packages/matplotlib/figure.py\u001b[0m in \u001b[0;36mdraw\u001b[0;34m(self, renderer)\u001b[0m\n\u001b[1;32m   1647\u001b[0m \u001b[0;34m\u001b[0m\u001b[0m\n\u001b[1;32m   1648\u001b[0m             mimage._draw_list_compositing_images(\n\u001b[0;32m-> 1649\u001b[0;31m                 renderer, self, artists, self.suppressComposite)\n\u001b[0m\u001b[1;32m   1650\u001b[0m \u001b[0;34m\u001b[0m\u001b[0m\n\u001b[1;32m   1651\u001b[0m             \u001b[0mrenderer\u001b[0m\u001b[0;34m.\u001b[0m\u001b[0mclose_group\u001b[0m\u001b[0;34m(\u001b[0m\u001b[0;34m'figure'\u001b[0m\u001b[0;34m)\u001b[0m\u001b[0;34m\u001b[0m\u001b[0;34m\u001b[0m\u001b[0m\n",
      "\u001b[0;32m/usr/local/lib/python3.6/dist-packages/matplotlib/image.py\u001b[0m in \u001b[0;36m_draw_list_compositing_images\u001b[0;34m(renderer, parent, artists, suppress_composite)\u001b[0m\n\u001b[1;32m    136\u001b[0m     \u001b[0;32mif\u001b[0m \u001b[0mnot_composite\u001b[0m \u001b[0;32mor\u001b[0m \u001b[0;32mnot\u001b[0m \u001b[0mhas_images\u001b[0m\u001b[0;34m:\u001b[0m\u001b[0;34m\u001b[0m\u001b[0;34m\u001b[0m\u001b[0m\n\u001b[1;32m    137\u001b[0m         \u001b[0;32mfor\u001b[0m \u001b[0ma\u001b[0m \u001b[0;32min\u001b[0m \u001b[0martists\u001b[0m\u001b[0;34m:\u001b[0m\u001b[0;34m\u001b[0m\u001b[0;34m\u001b[0m\u001b[0m\n\u001b[0;32m--> 138\u001b[0;31m             \u001b[0ma\u001b[0m\u001b[0;34m.\u001b[0m\u001b[0mdraw\u001b[0m\u001b[0;34m(\u001b[0m\u001b[0mrenderer\u001b[0m\u001b[0;34m)\u001b[0m\u001b[0;34m\u001b[0m\u001b[0;34m\u001b[0m\u001b[0m\n\u001b[0m\u001b[1;32m    139\u001b[0m     \u001b[0;32melse\u001b[0m\u001b[0;34m:\u001b[0m\u001b[0;34m\u001b[0m\u001b[0;34m\u001b[0m\u001b[0m\n\u001b[1;32m    140\u001b[0m         \u001b[0;31m# Composite any adjacent images together\u001b[0m\u001b[0;34m\u001b[0m\u001b[0;34m\u001b[0m\u001b[0;34m\u001b[0m\u001b[0m\n",
      "\u001b[0;32m/usr/local/lib/python3.6/dist-packages/matplotlib/artist.py\u001b[0m in \u001b[0;36mdraw_wrapper\u001b[0;34m(artist, renderer, *args, **kwargs)\u001b[0m\n\u001b[1;32m     48\u001b[0m                 \u001b[0mrenderer\u001b[0m\u001b[0;34m.\u001b[0m\u001b[0mstart_filter\u001b[0m\u001b[0;34m(\u001b[0m\u001b[0;34m)\u001b[0m\u001b[0;34m\u001b[0m\u001b[0;34m\u001b[0m\u001b[0m\n\u001b[1;32m     49\u001b[0m \u001b[0;34m\u001b[0m\u001b[0m\n\u001b[0;32m---> 50\u001b[0;31m             \u001b[0;32mreturn\u001b[0m \u001b[0mdraw\u001b[0m\u001b[0;34m(\u001b[0m\u001b[0martist\u001b[0m\u001b[0;34m,\u001b[0m \u001b[0mrenderer\u001b[0m\u001b[0;34m,\u001b[0m \u001b[0;34m*\u001b[0m\u001b[0margs\u001b[0m\u001b[0;34m,\u001b[0m \u001b[0;34m**\u001b[0m\u001b[0mkwargs\u001b[0m\u001b[0;34m)\u001b[0m\u001b[0;34m\u001b[0m\u001b[0;34m\u001b[0m\u001b[0m\n\u001b[0m\u001b[1;32m     51\u001b[0m         \u001b[0;32mfinally\u001b[0m\u001b[0;34m:\u001b[0m\u001b[0;34m\u001b[0m\u001b[0;34m\u001b[0m\u001b[0m\n\u001b[1;32m     52\u001b[0m             \u001b[0;32mif\u001b[0m \u001b[0martist\u001b[0m\u001b[0;34m.\u001b[0m\u001b[0mget_agg_filter\u001b[0m\u001b[0;34m(\u001b[0m\u001b[0;34m)\u001b[0m \u001b[0;32mis\u001b[0m \u001b[0;32mnot\u001b[0m \u001b[0;32mNone\u001b[0m\u001b[0;34m:\u001b[0m\u001b[0;34m\u001b[0m\u001b[0;34m\u001b[0m\u001b[0m\n",
      "\u001b[0;32m/usr/local/lib/python3.6/dist-packages/matplotlib/axes/_base.py\u001b[0m in \u001b[0;36mdraw\u001b[0;34m(self, renderer, inframe)\u001b[0m\n\u001b[1;32m   2626\u001b[0m             \u001b[0mrenderer\u001b[0m\u001b[0;34m.\u001b[0m\u001b[0mstop_rasterizing\u001b[0m\u001b[0;34m(\u001b[0m\u001b[0;34m)\u001b[0m\u001b[0;34m\u001b[0m\u001b[0;34m\u001b[0m\u001b[0m\n\u001b[1;32m   2627\u001b[0m \u001b[0;34m\u001b[0m\u001b[0m\n\u001b[0;32m-> 2628\u001b[0;31m         \u001b[0mmimage\u001b[0m\u001b[0;34m.\u001b[0m\u001b[0m_draw_list_compositing_images\u001b[0m\u001b[0;34m(\u001b[0m\u001b[0mrenderer\u001b[0m\u001b[0;34m,\u001b[0m \u001b[0mself\u001b[0m\u001b[0;34m,\u001b[0m \u001b[0martists\u001b[0m\u001b[0;34m)\u001b[0m\u001b[0;34m\u001b[0m\u001b[0;34m\u001b[0m\u001b[0m\n\u001b[0m\u001b[1;32m   2629\u001b[0m \u001b[0;34m\u001b[0m\u001b[0m\n\u001b[1;32m   2630\u001b[0m         \u001b[0mrenderer\u001b[0m\u001b[0;34m.\u001b[0m\u001b[0mclose_group\u001b[0m\u001b[0;34m(\u001b[0m\u001b[0;34m'axes'\u001b[0m\u001b[0;34m)\u001b[0m\u001b[0;34m\u001b[0m\u001b[0;34m\u001b[0m\u001b[0m\n",
      "\u001b[0;32m/usr/local/lib/python3.6/dist-packages/matplotlib/image.py\u001b[0m in \u001b[0;36m_draw_list_compositing_images\u001b[0;34m(renderer, parent, artists, suppress_composite)\u001b[0m\n\u001b[1;32m    136\u001b[0m     \u001b[0;32mif\u001b[0m \u001b[0mnot_composite\u001b[0m \u001b[0;32mor\u001b[0m \u001b[0;32mnot\u001b[0m \u001b[0mhas_images\u001b[0m\u001b[0;34m:\u001b[0m\u001b[0;34m\u001b[0m\u001b[0;34m\u001b[0m\u001b[0m\n\u001b[1;32m    137\u001b[0m         \u001b[0;32mfor\u001b[0m \u001b[0ma\u001b[0m \u001b[0;32min\u001b[0m \u001b[0martists\u001b[0m\u001b[0;34m:\u001b[0m\u001b[0;34m\u001b[0m\u001b[0;34m\u001b[0m\u001b[0m\n\u001b[0;32m--> 138\u001b[0;31m             \u001b[0ma\u001b[0m\u001b[0;34m.\u001b[0m\u001b[0mdraw\u001b[0m\u001b[0;34m(\u001b[0m\u001b[0mrenderer\u001b[0m\u001b[0;34m)\u001b[0m\u001b[0;34m\u001b[0m\u001b[0;34m\u001b[0m\u001b[0m\n\u001b[0m\u001b[1;32m    139\u001b[0m     \u001b[0;32melse\u001b[0m\u001b[0;34m:\u001b[0m\u001b[0;34m\u001b[0m\u001b[0;34m\u001b[0m\u001b[0m\n\u001b[1;32m    140\u001b[0m         \u001b[0;31m# Composite any adjacent images together\u001b[0m\u001b[0;34m\u001b[0m\u001b[0;34m\u001b[0m\u001b[0;34m\u001b[0m\u001b[0m\n",
      "\u001b[0;32m/usr/local/lib/python3.6/dist-packages/matplotlib/artist.py\u001b[0m in \u001b[0;36mdraw_wrapper\u001b[0;34m(artist, renderer, *args, **kwargs)\u001b[0m\n\u001b[1;32m     48\u001b[0m                 \u001b[0mrenderer\u001b[0m\u001b[0;34m.\u001b[0m\u001b[0mstart_filter\u001b[0m\u001b[0;34m(\u001b[0m\u001b[0;34m)\u001b[0m\u001b[0;34m\u001b[0m\u001b[0;34m\u001b[0m\u001b[0m\n\u001b[1;32m     49\u001b[0m \u001b[0;34m\u001b[0m\u001b[0m\n\u001b[0;32m---> 50\u001b[0;31m             \u001b[0;32mreturn\u001b[0m \u001b[0mdraw\u001b[0m\u001b[0;34m(\u001b[0m\u001b[0martist\u001b[0m\u001b[0;34m,\u001b[0m \u001b[0mrenderer\u001b[0m\u001b[0;34m,\u001b[0m \u001b[0;34m*\u001b[0m\u001b[0margs\u001b[0m\u001b[0;34m,\u001b[0m \u001b[0;34m**\u001b[0m\u001b[0mkwargs\u001b[0m\u001b[0;34m)\u001b[0m\u001b[0;34m\u001b[0m\u001b[0;34m\u001b[0m\u001b[0m\n\u001b[0m\u001b[1;32m     51\u001b[0m         \u001b[0;32mfinally\u001b[0m\u001b[0;34m:\u001b[0m\u001b[0;34m\u001b[0m\u001b[0;34m\u001b[0m\u001b[0m\n\u001b[1;32m     52\u001b[0m             \u001b[0;32mif\u001b[0m \u001b[0martist\u001b[0m\u001b[0;34m.\u001b[0m\u001b[0mget_agg_filter\u001b[0m\u001b[0;34m(\u001b[0m\u001b[0;34m)\u001b[0m \u001b[0;32mis\u001b[0m \u001b[0;32mnot\u001b[0m \u001b[0;32mNone\u001b[0m\u001b[0;34m:\u001b[0m\u001b[0;34m\u001b[0m\u001b[0;34m\u001b[0m\u001b[0m\n",
      "\u001b[0;32m/usr/local/lib/python3.6/dist-packages/matplotlib/axis.py\u001b[0m in \u001b[0;36mdraw\u001b[0;34m(self, renderer, *args, **kwargs)\u001b[0m\n\u001b[1;32m   1188\u001b[0m \u001b[0;34m\u001b[0m\u001b[0m\n\u001b[1;32m   1189\u001b[0m         \u001b[0;32mfor\u001b[0m \u001b[0mtick\u001b[0m \u001b[0;32min\u001b[0m \u001b[0mticks_to_draw\u001b[0m\u001b[0;34m:\u001b[0m\u001b[0;34m\u001b[0m\u001b[0;34m\u001b[0m\u001b[0m\n\u001b[0;32m-> 1190\u001b[0;31m             \u001b[0mtick\u001b[0m\u001b[0;34m.\u001b[0m\u001b[0mdraw\u001b[0m\u001b[0;34m(\u001b[0m\u001b[0mrenderer\u001b[0m\u001b[0;34m)\u001b[0m\u001b[0;34m\u001b[0m\u001b[0;34m\u001b[0m\u001b[0m\n\u001b[0m\u001b[1;32m   1191\u001b[0m \u001b[0;34m\u001b[0m\u001b[0m\n\u001b[1;32m   1192\u001b[0m         \u001b[0;31m# scale up the axis label box to also find the neighbors, not\u001b[0m\u001b[0;34m\u001b[0m\u001b[0;34m\u001b[0m\u001b[0;34m\u001b[0m\u001b[0m\n",
      "\u001b[0;31mKeyboardInterrupt\u001b[0m: "
     ]
    },
    {
     "data": {
      "image/png": "[encoded data removed]",
      "text/plain": [
       "<Figure size 620.234x540 with 12 Axes>"
      ]
     },
     "metadata": {
      "tags": []
     },
     "output_type": "display_data"
    }
   ],
   "source": [
    "sns.pairplot(rain,hue= 'RainTomorrow',vars= ['Evaporation','Sunshine','Rainfall'])"
   ]
  },
  {
   "cell_type": "code",
   "execution_count": 0,
   "metadata": {
    "colab": {
     "base_uri": "https://localhost:8080/",
     "height": 746
    },
    "colab_type": "code",
    "executionInfo": {
     "elapsed": 37042,
     "status": "ok",
     "timestamp": 1555451168895,
     "user": {
      "displayName": "Jenny Huang",
      "photoUrl": "",
      "userId": "02913568749514153326"
     },
     "user_tz": 240
    },
    "id": "c6atxa0c_miK",
    "outputId": "0e5f7747-794f-4c39-8c9b-256023938944"
   },
   "outputs": [
    {
     "data": {
      "text/plain": [
       "<seaborn.axisgrid.PairGrid at 0x7f96d0614f60>"
      ]
     },
     "execution_count": 8,
     "metadata": {
      "tags": []
     },
     "output_type": "execute_result"
    },
    {
     "data": {
      "image/png": "[encoded data removed]",
      "text/plain": [
       "<Figure size 800.234x720 with 20 Axes>"
      ]
     },
     "metadata": {
      "tags": []
     },
     "output_type": "display_data"
    }
   ],
   "source": [
    "sns.pairplot(rain,hue= 'RainTomorrow',vars= ['Cloud3pm','Pressure3pm','WindGustSpeed','Rainfall'])"
   ]
  },
  {
   "cell_type": "code",
   "execution_count": 0,
   "metadata": {
    "colab": {},
    "colab_type": "code",
    "id": "rcOa-ucBQX9H"
   },
   "outputs": [],
   "source": [
    "X = rain.drop('RainTomorrow', axis=1)\n",
    "y = rain['RainTomorrow']\n"
   ]
  },
  {
   "cell_type": "code",
   "execution_count": 0,
   "metadata": {
    "colab": {
     "base_uri": "https://localhost:8080/",
     "height": 226
    },
    "colab_type": "code",
    "executionInfo": {
     "elapsed": 37027,
     "status": "ok",
     "timestamp": 1555451168919,
     "user": {
      "displayName": "Jenny Huang",
      "photoUrl": "",
      "userId": "02913568749514153326"
     },
     "user_tz": 240
    },
    "id": "3XfhichdQX9J",
    "outputId": "4c5aa364-4b3a-47b9-b73c-4e9b4b505359"
   },
   "outputs": [
    {
     "data": {
      "text/html": [
       "<div>\n",
       "<style scoped>\n",
       "    .dataframe tbody tr th:only-of-type {\n",
       "        vertical-align: middle;\n",
       "    }\n",
       "\n",
       "    .dataframe tbody tr th {\n",
       "        vertical-align: top;\n",
       "    }\n",
       "\n",
       "    .dataframe thead th {\n",
       "        text-align: right;\n",
       "    }\n",
       "</style>\n",
       "<table border=\"1\" class=\"dataframe\">\n",
       "  <thead>\n",
       "    <tr style=\"text-align: right;\">\n",
       "      <th></th>\n",
       "      <th>MinTemp</th>\n",
       "      <th>MaxTemp</th>\n",
       "      <th>Rainfall</th>\n",
       "      <th>Evaporation</th>\n",
       "      <th>Sunshine</th>\n",
       "      <th>WindGustDir</th>\n",
       "      <th>WindGustSpeed</th>\n",
       "      <th>WindDir9am</th>\n",
       "      <th>WindDir3pm</th>\n",
       "      <th>WindSpeed9am</th>\n",
       "      <th>WindSpeed3pm</th>\n",
       "      <th>Humidity9am</th>\n",
       "      <th>Humidity3pm</th>\n",
       "      <th>Pressure9am</th>\n",
       "      <th>Pressure3pm</th>\n",
       "      <th>Cloud9am</th>\n",
       "      <th>Cloud3pm</th>\n",
       "      <th>Temp9am</th>\n",
       "      <th>Temp3pm</th>\n",
       "      <th>RainToday</th>\n",
       "    </tr>\n",
       "  </thead>\n",
       "  <tbody>\n",
       "    <tr>\n",
       "      <th>9</th>\n",
       "      <td>3.2</td>\n",
       "      <td>12.1</td>\n",
       "      <td>0.0</td>\n",
       "      <td>2.8</td>\n",
       "      <td>3.9</td>\n",
       "      <td>2</td>\n",
       "      <td>41.0</td>\n",
       "      <td>9</td>\n",
       "      <td>9</td>\n",
       "      <td>17.0</td>\n",
       "      <td>20.0</td>\n",
       "      <td>69.0</td>\n",
       "      <td>51.0</td>\n",
       "      <td>1033.6</td>\n",
       "      <td>1033.2</td>\n",
       "      <td>7.0</td>\n",
       "      <td>5.0</td>\n",
       "      <td>9.3</td>\n",
       "      <td>11.1</td>\n",
       "      <td>0</td>\n",
       "    </tr>\n",
       "    <tr>\n",
       "      <th>10</th>\n",
       "      <td>8.9</td>\n",
       "      <td>21.5</td>\n",
       "      <td>0.0</td>\n",
       "      <td>2.6</td>\n",
       "      <td>4.5</td>\n",
       "      <td>15</td>\n",
       "      <td>20.0</td>\n",
       "      <td>5</td>\n",
       "      <td>13</td>\n",
       "      <td>9.0</td>\n",
       "      <td>11.0</td>\n",
       "      <td>80.0</td>\n",
       "      <td>57.0</td>\n",
       "      <td>1021.8</td>\n",
       "      <td>1020.8</td>\n",
       "      <td>7.0</td>\n",
       "      <td>3.0</td>\n",
       "      <td>13.1</td>\n",
       "      <td>20.7</td>\n",
       "      <td>0</td>\n",
       "    </tr>\n",
       "    <tr>\n",
       "      <th>11</th>\n",
       "      <td>23.1</td>\n",
       "      <td>32.5</td>\n",
       "      <td>0.0</td>\n",
       "      <td>9.8</td>\n",
       "      <td>9.9</td>\n",
       "      <td>4</td>\n",
       "      <td>35.0</td>\n",
       "      <td>5</td>\n",
       "      <td>1</td>\n",
       "      <td>15.0</td>\n",
       "      <td>28.0</td>\n",
       "      <td>65.0</td>\n",
       "      <td>60.0</td>\n",
       "      <td>1012.7</td>\n",
       "      <td>1009.4</td>\n",
       "      <td>7.0</td>\n",
       "      <td>3.0</td>\n",
       "      <td>28.7</td>\n",
       "      <td>30.9</td>\n",
       "      <td>0</td>\n",
       "    </tr>\n",
       "    <tr>\n",
       "      <th>17</th>\n",
       "      <td>24.2</td>\n",
       "      <td>35.6</td>\n",
       "      <td>0.0</td>\n",
       "      <td>19.4</td>\n",
       "      <td>2.7</td>\n",
       "      <td>15</td>\n",
       "      <td>65.0</td>\n",
       "      <td>15</td>\n",
       "      <td>14</td>\n",
       "      <td>20.0</td>\n",
       "      <td>30.0</td>\n",
       "      <td>39.0</td>\n",
       "      <td>39.0</td>\n",
       "      <td>1004.4</td>\n",
       "      <td>1004.3</td>\n",
       "      <td>7.0</td>\n",
       "      <td>7.0</td>\n",
       "      <td>30.8</td>\n",
       "      <td>33.5</td>\n",
       "      <td>0</td>\n",
       "    </tr>\n",
       "    <tr>\n",
       "      <th>19</th>\n",
       "      <td>12.9</td>\n",
       "      <td>21.4</td>\n",
       "      <td>0.6</td>\n",
       "      <td>0.4</td>\n",
       "      <td>9.6</td>\n",
       "      <td>2</td>\n",
       "      <td>22.0</td>\n",
       "      <td>12</td>\n",
       "      <td>2</td>\n",
       "      <td>4.0</td>\n",
       "      <td>9.0</td>\n",
       "      <td>76.0</td>\n",
       "      <td>57.0</td>\n",
       "      <td>1031.6</td>\n",
       "      <td>1029.4</td>\n",
       "      <td>3.0</td>\n",
       "      <td>2.0</td>\n",
       "      <td>16.6</td>\n",
       "      <td>19.5</td>\n",
       "      <td>0</td>\n",
       "    </tr>\n",
       "  </tbody>\n",
       "</table>\n",
       "</div>"
      ],
      "text/plain": [
       "    MinTemp  MaxTemp  Rainfall  Evaporation  Sunshine  WindGustDir  \\\n",
       "9       3.2     12.1       0.0          2.8       3.9            2   \n",
       "10      8.9     21.5       0.0          2.6       4.5           15   \n",
       "11     23.1     32.5       0.0          9.8       9.9            4   \n",
       "17     24.2     35.6       0.0         19.4       2.7           15   \n",
       "19     12.9     21.4       0.6          0.4       9.6            2   \n",
       "\n",
       "    WindGustSpeed  WindDir9am  WindDir3pm  WindSpeed9am  WindSpeed3pm  \\\n",
       "9            41.0           9           9          17.0          20.0   \n",
       "10           20.0           5          13           9.0          11.0   \n",
       "11           35.0           5           1          15.0          28.0   \n",
       "17           65.0          15          14          20.0          30.0   \n",
       "19           22.0          12           2           4.0           9.0   \n",
       "\n",
       "    Humidity9am  Humidity3pm  Pressure9am  Pressure3pm  Cloud9am  Cloud3pm  \\\n",
       "9          69.0         51.0       1033.6       1033.2       7.0       5.0   \n",
       "10         80.0         57.0       1021.8       1020.8       7.0       3.0   \n",
       "11         65.0         60.0       1012.7       1009.4       7.0       3.0   \n",
       "17         39.0         39.0       1004.4       1004.3       7.0       7.0   \n",
       "19         76.0         57.0       1031.6       1029.4       3.0       2.0   \n",
       "\n",
       "    Temp9am  Temp3pm  RainToday  \n",
       "9       9.3     11.1          0  \n",
       "10     13.1     20.7          0  \n",
       "11     28.7     30.9          0  \n",
       "17     30.8     33.5          0  \n",
       "19     16.6     19.5          0  "
      ]
     },
     "execution_count": 10,
     "metadata": {
      "tags": []
     },
     "output_type": "execute_result"
    }
   ],
   "source": [
    "X.head()"
   ]
  },
  {
   "cell_type": "code",
   "execution_count": 0,
   "metadata": {
    "colab": {
     "base_uri": "https://localhost:8080/",
     "height": 121
    },
    "colab_type": "code",
    "executionInfo": {
     "elapsed": 36996,
     "status": "ok",
     "timestamp": 1555451168928,
     "user": {
      "displayName": "Jenny Huang",
      "photoUrl": "",
      "userId": "02913568749514153326"
     },
     "user_tz": 240
    },
    "id": "l-POZsX6QX9M",
    "outputId": "ff270436-c679-4753-cb8d-72a7deed827e"
   },
   "outputs": [
    {
     "data": {
      "text/plain": [
       "9     0\n",
       "10    1\n",
       "11    0\n",
       "17    0\n",
       "19    0\n",
       "Name: RainTomorrow, dtype: int8"
      ]
     },
     "execution_count": 11,
     "metadata": {
      "tags": []
     },
     "output_type": "execute_result"
    }
   ],
   "source": [
    "y.head()"
   ]
  },
  {
   "cell_type": "markdown",
   "metadata": {
    "colab_type": "text",
    "id": "WynnWYw3jVf2"
   },
   "source": [
    "# Data Training\n",
    "\n",
    "Spliting the data into two categories: the training set and the testing set"
   ]
  },
  {
   "cell_type": "code",
   "execution_count": 0,
   "metadata": {
    "colab": {},
    "colab_type": "code",
    "id": "IrhwxgLmQX9P"
   },
   "outputs": [],
   "source": [
    "# split into train and test data sets\n",
    "\n",
    "X_train, X_test, y_train, y_test = train_test_split(X, y, test_size=0.2, random_state=42)"
   ]
  },
  {
   "cell_type": "code",
   "execution_count": 8,
   "metadata": {
    "colab": {
     "base_uri": "https://localhost:8080/",
     "height": 34
    },
    "colab_type": "code",
    "executionInfo": {
     "elapsed": 335,
     "status": "ok",
     "timestamp": 1560450403853,
     "user": {
      "displayName": "Andrew Ni",
      "photoUrl": "",
      "userId": "17604479765167420078"
     },
     "user_tz": 240
    },
    "id": "F-Hzp4vUQX9S",
    "outputId": "a07f3b01-626a-4fc0-ccc8-5ecc61bcd802"
   },
   "outputs": [
    {
     "data": {
      "text/plain": [
       "((31484, 20), (31484,))"
      ]
     },
     "execution_count": 8,
     "metadata": {
      "tags": []
     },
     "output_type": "execute_result"
    }
   ],
   "source": [
    "X_train.shape, y_train.shape\n"
   ]
  },
  {
   "cell_type": "code",
   "execution_count": 9,
   "metadata": {
    "colab": {
     "base_uri": "https://localhost:8080/",
     "height": 34
    },
    "colab_type": "code",
    "executionInfo": {
     "elapsed": 279,
     "status": "ok",
     "timestamp": 1560450405461,
     "user": {
      "displayName": "Andrew Ni",
      "photoUrl": "",
      "userId": "17604479765167420078"
     },
     "user_tz": 240
    },
    "id": "nc1PHrx4QX9W",
    "outputId": "808e7e42-8bc3-486d-cbff-3ba55a78f052"
   },
   "outputs": [
    {
     "data": {
      "text/plain": [
       "((7872, 20), (7872,))"
      ]
     },
     "execution_count": 9,
     "metadata": {
      "tags": []
     },
     "output_type": "execute_result"
    }
   ],
   "source": [
    "X_test.shape, y_test.shape"
   ]
  },
  {
   "cell_type": "markdown",
   "metadata": {
    "colab_type": "text",
    "id": "se6K5_Gdjjh5"
   },
   "source": [
    "# Decision Trees\n"
   ]
  },
  {
   "cell_type": "code",
   "execution_count": 10,
   "metadata": {
    "colab": {
     "base_uri": "https://localhost:8080/",
     "height": 119
    },
    "colab_type": "code",
    "executionInfo": {
     "elapsed": 819,
     "status": "ok",
     "timestamp": 1560450408659,
     "user": {
      "displayName": "Andrew Ni",
      "photoUrl": "",
      "userId": "17604479765167420078"
     },
     "user_tz": 240
    },
    "id": "0qxvW2z3AjQO",
    "outputId": "ea450603-5213-4d4c-ce9e-8be3548fcd3a"
   },
   "outputs": [
    {
     "data": {
      "text/plain": [
       "DecisionTreeClassifier(class_weight=None, criterion='gini', max_depth=None,\n",
       "                       max_features=None, max_leaf_nodes=None,\n",
       "                       min_impurity_decrease=0.0, min_impurity_split=None,\n",
       "                       min_samples_leaf=1, min_samples_split=2,\n",
       "                       min_weight_fraction_leaf=0.0, presort=False,\n",
       "                       random_state=None, splitter='best')"
      ]
     },
     "execution_count": 10,
     "metadata": {
      "tags": []
     },
     "output_type": "execute_result"
    }
   ],
   "source": [
    "# model\n",
    "tree = DecisionTreeClassifier()\n",
    "\n",
    "# train\n",
    "tree.fit(X_train, y_train)"
   ]
  },
  {
   "cell_type": "code",
   "execution_count": 0,
   "metadata": {
    "colab": {
     "base_uri": "https://localhost:8080/",
     "height": 165
    },
    "colab_type": "code",
    "executionInfo": {
     "elapsed": 38084,
     "status": "error",
     "timestamp": 1555451170176,
     "user": {
      "displayName": "Jenny Huang",
      "photoUrl": "",
      "userId": "02913568749514153326"
     },
     "user_tz": 240
    },
    "id": "w4OI1-XLMdse",
    "outputId": "2b38e047-7c02-450d-8a95-efc30d9d9dee"
   },
   "outputs": [
    {
     "ename": "AttributeError",
     "evalue": "ignored",
     "output_type": "error",
     "traceback": [
      "\u001b[0;31m---------------------------------------------------------------------------\u001b[0m",
      "\u001b[0;31mAttributeError\u001b[0m                            Traceback (most recent call last)",
      "\u001b[0;32m<ipython-input-16-cf4b64f1950f>\u001b[0m in \u001b[0;36m<module>\u001b[0;34m()\u001b[0m\n\u001b[0;32m----> 1\u001b[0;31m \u001b[0mtree\u001b[0m\u001b[0;34m.\u001b[0m\u001b[0mexport_graphviz\u001b[0m\u001b[0;34m(\u001b[0m\u001b[0mtree\u001b[0m\u001b[0;34m)\u001b[0m\u001b[0;34m\u001b[0m\u001b[0;34m\u001b[0m\u001b[0m\n\u001b[0m",
      "\u001b[0;31mAttributeError\u001b[0m: 'DecisionTreeClassifier' object has no attribute 'export_graphviz'"
     ]
    }
   ],
   "source": [
    "tree.export_graphviz(tree)"
   ]
  },
  {
   "cell_type": "code",
   "execution_count": 11,
   "metadata": {
    "colab": {
     "base_uri": "https://localhost:8080/",
     "height": 51
    },
    "colab_type": "code",
    "executionInfo": {
     "elapsed": 415,
     "status": "ok",
     "timestamp": 1560450415728,
     "user": {
      "displayName": "Andrew Ni",
      "photoUrl": "",
      "userId": "17604479765167420078"
     },
     "user_tz": 240
    },
    "id": "2GYtcF7lAwrM",
    "outputId": "76a1006f-4333-4165-fd99-1a9f4260b01e"
   },
   "outputs": [
    {
     "name": "stdout",
     "output_type": "stream",
     "text": [
      "1.0\n",
      "0.7957317073170732\n"
     ]
    }
   ],
   "source": [
    "print(tree.score(X_train, y_train))\n",
    "print(tree.score(X_test, y_test))"
   ]
  },
  {
   "cell_type": "code",
   "execution_count": 18,
   "metadata": {
    "colab": {
     "base_uri": "https://localhost:8080/",
     "height": 584
    },
    "colab_type": "code",
    "executionInfo": {
     "elapsed": 1491,
     "status": "ok",
     "timestamp": 1560450510874,
     "user": {
      "displayName": "Andrew Ni",
      "photoUrl": "",
      "userId": "17604479765167420078"
     },
     "user_tz": 240
    },
    "id": "E_FTgRAtCP5-",
    "outputId": "e1f74dba-3ee3-4ef4-d1a9-70bc6245dca1"
   },
   "outputs": [
    {
     "name": "stderr",
     "output_type": "stream",
     "text": [
      "/usr/local/lib/python3.6/dist-packages/sklearn/ensemble/forest.py:245: FutureWarning: The default value of n_estimators will change from 10 in version 0.20 to 100 in 0.22.\n",
      "  \"10 in version 0.20 to 100 in 0.22.\", FutureWarning)\n"
     ]
    },
    {
     "name": "stdout",
     "output_type": "stream",
     "text": [
      "               Importance\n",
      "Humidity3pm      0.134084\n",
      "Sunshine         0.098936\n",
      "Cloud3pm         0.077575\n",
      "Pressure3pm      0.063965\n",
      "Pressure9am      0.062552\n",
      "WindGustSpeed    0.054607\n",
      "Rainfall         0.050528\n",
      "Humidity9am      0.048244\n",
      "MinTemp          0.043565\n",
      "Temp3pm          0.042523\n",
      "MaxTemp          0.042500\n",
      "Evaporation      0.041609\n",
      "Temp9am          0.040719\n",
      "Cloud9am         0.033763\n",
      "WindSpeed3pm     0.033177\n",
      "WindSpeed9am     0.032475\n",
      "WindDir9am       0.029581\n",
      "WindGustDir      0.029042\n",
      "WindDir3pm       0.029032\n",
      "RainToday        0.011523\n"
     ]
    },
    {
     "data": {
      "text/html": [
       "<div>\n",
       "<style scoped>\n",
       "    .dataframe tbody tr th:only-of-type {\n",
       "        vertical-align: middle;\n",
       "    }\n",
       "\n",
       "    .dataframe tbody tr th {\n",
       "        vertical-align: top;\n",
       "    }\n",
       "\n",
       "    .dataframe thead th {\n",
       "        text-align: right;\n",
       "    }\n",
       "</style>\n",
       "<table border=\"1\" class=\"dataframe\">\n",
       "  <thead>\n",
       "    <tr style=\"text-align: right;\">\n",
       "      <th>Predicted:</th>\n",
       "      <th>0</th>\n",
       "      <th>1</th>\n",
       "      <th>All</th>\n",
       "    </tr>\n",
       "    <tr>\n",
       "      <th>Actual</th>\n",
       "      <th></th>\n",
       "      <th></th>\n",
       "      <th></th>\n",
       "    </tr>\n",
       "  </thead>\n",
       "  <tbody>\n",
       "    <tr>\n",
       "      <th>0</th>\n",
       "      <td>5912</td>\n",
       "      <td>246</td>\n",
       "      <td>6158</td>\n",
       "    </tr>\n",
       "    <tr>\n",
       "      <th>1</th>\n",
       "      <td>883</td>\n",
       "      <td>831</td>\n",
       "      <td>1714</td>\n",
       "    </tr>\n",
       "    <tr>\n",
       "      <th>All</th>\n",
       "      <td>6795</td>\n",
       "      <td>1077</td>\n",
       "      <td>7872</td>\n",
       "    </tr>\n",
       "  </tbody>\n",
       "</table>\n",
       "</div>"
      ],
      "text/plain": [
       "Predicted:     0     1   All\n",
       "Actual                      \n",
       "0           5912   246  6158\n",
       "1            883   831  1714\n",
       "All         6795  1077  7872"
      ]
     },
     "execution_count": 18,
     "metadata": {
      "tags": []
     },
     "output_type": "execute_result"
    }
   ],
   "source": [
    "# model\n",
    "forest = RandomForestClassifier(criterion = 'entropy')\n",
    "\n",
    "# train\n",
    "forest.fit(X_train, y_train)\n",
    "\n",
    "# predict\n",
    "forest_predictions = forest.predict(X_test)\n",
    "\n",
    "# feature importances\n",
    "print(pd.DataFrame({'Importance': forest.feature_importances_}, index = X_train.columns).sort_values('Importance', ascending = False))\n",
    "\n",
    "# confusion matrix\n",
    "pd.crosstab(y_test, forest_predictions, rownames=['Actual'], colnames = ['Predicted:'], margins = True)"
   ]
  },
  {
   "cell_type": "code",
   "execution_count": 19,
   "metadata": {
    "colab": {
     "base_uri": "https://localhost:8080/",
     "height": 34
    },
    "colab_type": "code",
    "executionInfo": {
     "elapsed": 432,
     "status": "ok",
     "timestamp": 1560450516885,
     "user": {
      "displayName": "Andrew Ni",
      "photoUrl": "",
      "userId": "17604479765167420078"
     },
     "user_tz": 240
    },
    "id": "i1cymAhuCkmx",
    "outputId": "cd231365-446a-42c5-ed0f-265bfbe419ee"
   },
   "outputs": [
    {
     "data": {
      "text/plain": [
       "0.8565802845528455"
      ]
     },
     "execution_count": 19,
     "metadata": {
      "tags": []
     },
     "output_type": "execute_result"
    }
   ],
   "source": [
    "forest.score(X_test, y_test) # mispredicted one sample. The random forest was worse than the single decision tree!"
   ]
  },
  {
   "cell_type": "markdown",
   "metadata": {
    "colab_type": "text",
    "id": "TCDUoh1jjuWN"
   },
   "source": [
    "# Decision Trees using top 5 important features\n",
    "\n"
   ]
  },
  {
   "cell_type": "code",
   "execution_count": 13,
   "metadata": {
    "colab": {
     "base_uri": "https://localhost:8080/",
     "height": 119
    },
    "colab_type": "code",
    "executionInfo": {
     "elapsed": 417,
     "status": "ok",
     "timestamp": 1560450483324,
     "user": {
      "displayName": "Andrew Ni",
      "photoUrl": "",
      "userId": "17604479765167420078"
     },
     "user_tz": 240
    },
    "id": "UsSgR7DVOS1O",
    "outputId": "8c4e976a-f333-4195-fb8a-588ad1fa0bdb"
   },
   "outputs": [
    {
     "data": {
      "text/plain": [
       "DecisionTreeClassifier(class_weight=None, criterion='gini', max_depth=None,\n",
       "                       max_features=None, max_leaf_nodes=None,\n",
       "                       min_impurity_decrease=0.0, min_impurity_split=None,\n",
       "                       min_samples_leaf=1, min_samples_split=2,\n",
       "                       min_weight_fraction_leaf=0.0, presort=False,\n",
       "                       random_state=None, splitter='best')"
      ]
     },
     "execution_count": 13,
     "metadata": {
      "tags": []
     },
     "output_type": "execute_result"
    }
   ],
   "source": [
    "X2 = X[['Humidity3pm','Sunshine','Pressure9am','Pressure3pm','Cloud3pm']]\n",
    "\n",
    "X_train2, X_test2, y_train2, y_test2 = train_test_split(X2, y, test_size=0.2, random_state=42)\n",
    "# model\n",
    "tree = DecisionTreeClassifier()\n",
    "\n",
    "# train\n",
    "tree.fit(X_train2, y_train2)"
   ]
  },
  {
   "cell_type": "code",
   "execution_count": 14,
   "metadata": {
    "colab": {
     "base_uri": "https://localhost:8080/",
     "height": 51
    },
    "colab_type": "code",
    "executionInfo": {
     "elapsed": 278,
     "status": "ok",
     "timestamp": 1560450486360,
     "user": {
      "displayName": "Andrew Ni",
      "photoUrl": "",
      "userId": "17604479765167420078"
     },
     "user_tz": 240
    },
    "id": "i3SK_qnbPVLQ",
    "outputId": "aec7e503-4f7b-4420-b2ed-c395ec02eb88"
   },
   "outputs": [
    {
     "name": "stdout",
     "output_type": "stream",
     "text": [
      "0.9999682378350908\n",
      "0.7827743902439024\n"
     ]
    }
   ],
   "source": [
    "print(tree.score(X_train2, y_train2))\n",
    "print(tree.score(X_test2, y_test2))"
   ]
  },
  {
   "cell_type": "code",
   "execution_count": 15,
   "metadata": {
    "colab": {
     "base_uri": "https://localhost:8080/",
     "height": 329
    },
    "colab_type": "code",
    "executionInfo": {
     "elapsed": 976,
     "status": "ok",
     "timestamp": 1560450489179,
     "user": {
      "displayName": "Andrew Ni",
      "photoUrl": "",
      "userId": "17604479765167420078"
     },
     "user_tz": 240
    },
    "id": "fb-4DQXjPuoN",
    "outputId": "0050fe62-60a3-45a9-a015-8630e76261b4"
   },
   "outputs": [
    {
     "name": "stderr",
     "output_type": "stream",
     "text": [
      "/usr/local/lib/python3.6/dist-packages/sklearn/ensemble/forest.py:245: FutureWarning: The default value of n_estimators will change from 10 in version 0.20 to 100 in 0.22.\n",
      "  \"10 in version 0.20 to 100 in 0.22.\", FutureWarning)\n"
     ]
    },
    {
     "name": "stdout",
     "output_type": "stream",
     "text": [
      "             Importance\n",
      "Humidity3pm    0.270065\n",
      "Sunshine       0.239691\n",
      "Pressure3pm    0.201092\n",
      "Pressure9am    0.195123\n",
      "Cloud3pm       0.094029\n"
     ]
    },
    {
     "data": {
      "text/html": [
       "<div>\n",
       "<style scoped>\n",
       "    .dataframe tbody tr th:only-of-type {\n",
       "        vertical-align: middle;\n",
       "    }\n",
       "\n",
       "    .dataframe tbody tr th {\n",
       "        vertical-align: top;\n",
       "    }\n",
       "\n",
       "    .dataframe thead th {\n",
       "        text-align: right;\n",
       "    }\n",
       "</style>\n",
       "<table border=\"1\" class=\"dataframe\">\n",
       "  <thead>\n",
       "    <tr style=\"text-align: right;\">\n",
       "      <th>Predicted:</th>\n",
       "      <th>0</th>\n",
       "      <th>1</th>\n",
       "      <th>All</th>\n",
       "    </tr>\n",
       "    <tr>\n",
       "      <th>Actual</th>\n",
       "      <th></th>\n",
       "      <th></th>\n",
       "      <th></th>\n",
       "    </tr>\n",
       "  </thead>\n",
       "  <tbody>\n",
       "    <tr>\n",
       "      <th>0</th>\n",
       "      <td>5793</td>\n",
       "      <td>365</td>\n",
       "      <td>6158</td>\n",
       "    </tr>\n",
       "    <tr>\n",
       "      <th>1</th>\n",
       "      <td>918</td>\n",
       "      <td>796</td>\n",
       "      <td>1714</td>\n",
       "    </tr>\n",
       "    <tr>\n",
       "      <th>All</th>\n",
       "      <td>6711</td>\n",
       "      <td>1161</td>\n",
       "      <td>7872</td>\n",
       "    </tr>\n",
       "  </tbody>\n",
       "</table>\n",
       "</div>"
      ],
      "text/plain": [
       "Predicted:     0     1   All\n",
       "Actual                      \n",
       "0           5793   365  6158\n",
       "1            918   796  1714\n",
       "All         6711  1161  7872"
      ]
     },
     "execution_count": 15,
     "metadata": {
      "tags": []
     },
     "output_type": "execute_result"
    }
   ],
   "source": [
    "# model\n",
    "forest = RandomForestClassifier(criterion = 'entropy')\n",
    "\n",
    "# train\n",
    "forest.fit(X_train2, y_train2)\n",
    "\n",
    "# predict\n",
    "forest_predictions = forest.predict(X_test2)\n",
    "\n",
    "# feature importances\n",
    "print(pd.DataFrame({'Importance': forest.feature_importances_}, index = X_train2.columns).sort_values('Importance', ascending = False))\n",
    "\n",
    "# confusion matrix\n",
    "pd.crosstab(y_test2, forest_predictions, rownames=['Actual'], colnames = ['Predicted:'], margins = True)"
   ]
  },
  {
   "cell_type": "code",
   "execution_count": 16,
   "metadata": {
    "colab": {
     "base_uri": "https://localhost:8080/",
     "height": 34
    },
    "colab_type": "code",
    "executionInfo": {
     "elapsed": 285,
     "status": "ok",
     "timestamp": 1560450492628,
     "user": {
      "displayName": "Andrew Ni",
      "photoUrl": "",
      "userId": "17604479765167420078"
     },
     "user_tz": 240
    },
    "id": "e0mYmk93QUgc",
    "outputId": "a9283274-d738-4ecb-a276-59f4098ecc0d"
   },
   "outputs": [
    {
     "data": {
      "text/plain": [
       "0.8370172764227642"
      ]
     },
     "execution_count": 16,
     "metadata": {
      "tags": []
     },
     "output_type": "execute_result"
    }
   ],
   "source": [
    "forest.score(X_test2, y_test2) # mispredicted one sample. The random forest was worse than the single decision tree!"
   ]
  },
  {
   "cell_type": "markdown",
   "metadata": {
    "colab_type": "text",
    "id": "vvt6cZICj26O"
   },
   "source": [
    "# Data Feature Correlations\n"
   ]
  },
  {
   "cell_type": "code",
   "execution_count": 0,
   "metadata": {
    "colab": {
     "base_uri": "https://localhost:8080/",
     "height": 757
    },
    "colab_type": "code",
    "executionInfo": {
     "elapsed": 341,
     "status": "ok",
     "timestamp": 1555451201069,
     "user": {
      "displayName": "Jenny Huang",
      "photoUrl": "",
      "userId": "02913568749514153326"
     },
     "user_tz": 240
    },
    "id": "71eKBzMEIfIU",
    "outputId": "8809b68c-7152-445e-fcfd-b56adb90756b"
   },
   "outputs": [
    {
     "data": {
      "text/html": [
       "<div>\n",
       "<style scoped>\n",
       "    .dataframe tbody tr th:only-of-type {\n",
       "        vertical-align: middle;\n",
       "    }\n",
       "\n",
       "    .dataframe tbody tr th {\n",
       "        vertical-align: top;\n",
       "    }\n",
       "\n",
       "    .dataframe thead th {\n",
       "        text-align: right;\n",
       "    }\n",
       "</style>\n",
       "<table border=\"1\" class=\"dataframe\">\n",
       "  <thead>\n",
       "    <tr style=\"text-align: right;\">\n",
       "      <th></th>\n",
       "      <th>MinTemp</th>\n",
       "      <th>MaxTemp</th>\n",
       "      <th>Rainfall</th>\n",
       "      <th>Evaporation</th>\n",
       "      <th>Sunshine</th>\n",
       "      <th>WindGustDir</th>\n",
       "      <th>WindGustSpeed</th>\n",
       "      <th>WindDir9am</th>\n",
       "      <th>WindDir3pm</th>\n",
       "      <th>WindSpeed9am</th>\n",
       "      <th>...</th>\n",
       "      <th>Humidity9am</th>\n",
       "      <th>Humidity3pm</th>\n",
       "      <th>Pressure9am</th>\n",
       "      <th>Pressure3pm</th>\n",
       "      <th>Cloud9am</th>\n",
       "      <th>Cloud3pm</th>\n",
       "      <th>Temp9am</th>\n",
       "      <th>Temp3pm</th>\n",
       "      <th>RainToday</th>\n",
       "      <th>RainTomorrow</th>\n",
       "    </tr>\n",
       "  </thead>\n",
       "  <tbody>\n",
       "    <tr>\n",
       "      <th>MinTemp</th>\n",
       "      <td>1.000000</td>\n",
       "      <td>0.748780</td>\n",
       "      <td>0.113038</td>\n",
       "      <td>0.505101</td>\n",
       "      <td>0.074480</td>\n",
       "      <td>-0.189580</td>\n",
       "      <td>0.121208</td>\n",
       "      <td>-0.057162</td>\n",
       "      <td>-0.194467</td>\n",
       "      <td>0.112847</td>\n",
       "      <td>...</td>\n",
       "      <td>-0.179373</td>\n",
       "      <td>0.071178</td>\n",
       "      <td>-0.475750</td>\n",
       "      <td>-0.495688</td>\n",
       "      <td>0.105337</td>\n",
       "      <td>0.042250</td>\n",
       "      <td>0.906197</td>\n",
       "      <td>0.726630</td>\n",
       "      <td>0.050161</td>\n",
       "      <td>0.089103</td>\n",
       "    </tr>\n",
       "    <tr>\n",
       "      <th>MaxTemp</th>\n",
       "      <td>0.748780</td>\n",
       "      <td>1.000000</td>\n",
       "      <td>-0.066856</td>\n",
       "      <td>0.650770</td>\n",
       "      <td>0.464806</td>\n",
       "      <td>-0.243556</td>\n",
       "      <td>0.041389</td>\n",
       "      <td>-0.247102</td>\n",
       "      <td>-0.198270</td>\n",
       "      <td>-0.003978</td>\n",
       "      <td>...</td>\n",
       "      <td>-0.499327</td>\n",
       "      <td>-0.449370</td>\n",
       "      <td>-0.351927</td>\n",
       "      <td>-0.452356</td>\n",
       "      <td>-0.265224</td>\n",
       "      <td>-0.259280</td>\n",
       "      <td>0.893234</td>\n",
       "      <td>0.984749</td>\n",
       "      <td>-0.219913</td>\n",
       "      <td>-0.148378</td>\n",
       "    </tr>\n",
       "    <tr>\n",
       "      <th>Rainfall</th>\n",
       "      <td>0.113038</td>\n",
       "      <td>-0.066856</td>\n",
       "      <td>1.000000</td>\n",
       "      <td>-0.072218</td>\n",
       "      <td>-0.245344</td>\n",
       "      <td>0.065891</td>\n",
       "      <td>0.105231</td>\n",
       "      <td>0.092859</td>\n",
       "      <td>0.054474</td>\n",
       "      <td>0.049535</td>\n",
       "      <td>...</td>\n",
       "      <td>0.266069</td>\n",
       "      <td>0.277208</td>\n",
       "      <td>-0.179660</td>\n",
       "      <td>-0.137413</td>\n",
       "      <td>0.218027</td>\n",
       "      <td>0.189895</td>\n",
       "      <td>0.014806</td>\n",
       "      <td>-0.070809</td>\n",
       "      <td>0.551606</td>\n",
       "      <td>0.252166</td>\n",
       "    </tr>\n",
       "    <tr>\n",
       "      <th>Evaporation</th>\n",
       "      <td>0.505101</td>\n",
       "      <td>0.650770</td>\n",
       "      <td>-0.072218</td>\n",
       "      <td>1.000000</td>\n",
       "      <td>0.369179</td>\n",
       "      <td>-0.105604</td>\n",
       "      <td>0.208636</td>\n",
       "      <td>-0.132117</td>\n",
       "      <td>-0.069735</td>\n",
       "      <td>0.192445</td>\n",
       "      <td>...</td>\n",
       "      <td>-0.555146</td>\n",
       "      <td>-0.421819</td>\n",
       "      <td>-0.295217</td>\n",
       "      <td>-0.323218</td>\n",
       "      <td>-0.201905</td>\n",
       "      <td>-0.205095</td>\n",
       "      <td>0.593329</td>\n",
       "      <td>0.630329</td>\n",
       "      <td>-0.214667</td>\n",
       "      <td>-0.127729</td>\n",
       "    </tr>\n",
       "    <tr>\n",
       "      <th>Sunshine</th>\n",
       "      <td>0.074480</td>\n",
       "      <td>0.464806</td>\n",
       "      <td>-0.245344</td>\n",
       "      <td>0.369179</td>\n",
       "      <td>1.000000</td>\n",
       "      <td>-0.089226</td>\n",
       "      <td>-0.050373</td>\n",
       "      <td>-0.114520</td>\n",
       "      <td>-0.048716</td>\n",
       "      <td>-0.013211</td>\n",
       "      <td>...</td>\n",
       "      <td>-0.500839</td>\n",
       "      <td>-0.630979</td>\n",
       "      <td>0.044009</td>\n",
       "      <td>-0.020666</td>\n",
       "      <td>-0.679331</td>\n",
       "      <td>-0.701748</td>\n",
       "      <td>0.288840</td>\n",
       "      <td>0.487104</td>\n",
       "      <td>-0.327794</td>\n",
       "      <td>-0.453077</td>\n",
       "    </tr>\n",
       "    <tr>\n",
       "      <th>WindGustDir</th>\n",
       "      <td>-0.189580</td>\n",
       "      <td>-0.243556</td>\n",
       "      <td>0.065891</td>\n",
       "      <td>-0.105604</td>\n",
       "      <td>-0.089226</td>\n",
       "      <td>1.000000</td>\n",
       "      <td>0.118357</td>\n",
       "      <td>0.426915</td>\n",
       "      <td>0.617301</td>\n",
       "      <td>0.007309</td>\n",
       "      <td>...</td>\n",
       "      <td>0.096741</td>\n",
       "      <td>0.056108</td>\n",
       "      <td>-0.118947</td>\n",
       "      <td>-0.023052</td>\n",
       "      <td>0.079628</td>\n",
       "      <td>0.082589</td>\n",
       "      <td>-0.231600</td>\n",
       "      <td>-0.258013</td>\n",
       "      <td>0.145869</td>\n",
       "      <td>0.059399</td>\n",
       "    </tr>\n",
       "    <tr>\n",
       "      <th>WindGustSpeed</th>\n",
       "      <td>0.121208</td>\n",
       "      <td>0.041389</td>\n",
       "      <td>0.105231</td>\n",
       "      <td>0.208636</td>\n",
       "      <td>-0.050373</td>\n",
       "      <td>0.118357</td>\n",
       "      <td>1.000000</td>\n",
       "      <td>0.019504</td>\n",
       "      <td>0.113333</td>\n",
       "      <td>0.606789</td>\n",
       "      <td>...</td>\n",
       "      <td>-0.194734</td>\n",
       "      <td>-0.043712</td>\n",
       "      <td>-0.432358</td>\n",
       "      <td>-0.386223</td>\n",
       "      <td>0.087028</td>\n",
       "      <td>0.130925</td>\n",
       "      <td>0.090532</td>\n",
       "      <td>0.004947</td>\n",
       "      <td>0.144468</td>\n",
       "      <td>0.235525</td>\n",
       "    </tr>\n",
       "    <tr>\n",
       "      <th>WindDir9am</th>\n",
       "      <td>-0.057162</td>\n",
       "      <td>-0.247102</td>\n",
       "      <td>0.092859</td>\n",
       "      <td>-0.132117</td>\n",
       "      <td>-0.114520</td>\n",
       "      <td>0.426915</td>\n",
       "      <td>0.019504</td>\n",
       "      <td>1.000000</td>\n",
       "      <td>0.316115</td>\n",
       "      <td>-0.011600</td>\n",
       "      <td>...</td>\n",
       "      <td>0.164822</td>\n",
       "      <td>0.193513</td>\n",
       "      <td>-0.035093</td>\n",
       "      <td>0.058863</td>\n",
       "      <td>0.115079</td>\n",
       "      <td>0.075895</td>\n",
       "      <td>-0.150793</td>\n",
       "      <td>-0.253890</td>\n",
       "      <td>0.179094</td>\n",
       "      <td>0.036240</td>\n",
       "    </tr>\n",
       "    <tr>\n",
       "      <th>WindDir3pm</th>\n",
       "      <td>-0.194467</td>\n",
       "      <td>-0.198270</td>\n",
       "      <td>0.054474</td>\n",
       "      <td>-0.069735</td>\n",
       "      <td>-0.048716</td>\n",
       "      <td>0.617301</td>\n",
       "      <td>0.113333</td>\n",
       "      <td>0.316115</td>\n",
       "      <td>1.000000</td>\n",
       "      <td>0.031880</td>\n",
       "      <td>...</td>\n",
       "      <td>0.053275</td>\n",
       "      <td>-0.004447</td>\n",
       "      <td>-0.119656</td>\n",
       "      <td>-0.021417</td>\n",
       "      <td>0.045142</td>\n",
       "      <td>0.058255</td>\n",
       "      <td>-0.210929</td>\n",
       "      <td>-0.211770</td>\n",
       "      <td>0.122826</td>\n",
       "      <td>0.029250</td>\n",
       "    </tr>\n",
       "    <tr>\n",
       "      <th>WindSpeed9am</th>\n",
       "      <td>0.112847</td>\n",
       "      <td>-0.003978</td>\n",
       "      <td>0.049535</td>\n",
       "      <td>0.192445</td>\n",
       "      <td>-0.013211</td>\n",
       "      <td>0.007309</td>\n",
       "      <td>0.606789</td>\n",
       "      <td>-0.011600</td>\n",
       "      <td>0.031880</td>\n",
       "      <td>1.000000</td>\n",
       "      <td>...</td>\n",
       "      <td>-0.235897</td>\n",
       "      <td>-0.059825</td>\n",
       "      <td>-0.205797</td>\n",
       "      <td>-0.159957</td>\n",
       "      <td>0.036591</td>\n",
       "      <td>0.062770</td>\n",
       "      <td>0.057265</td>\n",
       "      <td>-0.013831</td>\n",
       "      <td>0.084301</td>\n",
       "      <td>0.083964</td>\n",
       "    </tr>\n",
       "    <tr>\n",
       "      <th>WindSpeed3pm</th>\n",
       "      <td>0.138523</td>\n",
       "      <td>0.014827</td>\n",
       "      <td>0.042067</td>\n",
       "      <td>0.126156</td>\n",
       "      <td>0.033189</td>\n",
       "      <td>0.086596</td>\n",
       "      <td>0.684301</td>\n",
       "      <td>0.090671</td>\n",
       "      <td>0.065268</td>\n",
       "      <td>0.502742</td>\n",
       "      <td>...</td>\n",
       "      <td>-0.100702</td>\n",
       "      <td>0.031559</td>\n",
       "      <td>-0.295670</td>\n",
       "      <td>-0.255120</td>\n",
       "      <td>0.065102</td>\n",
       "      <td>0.040722</td>\n",
       "      <td>0.116293</td>\n",
       "      <td>-0.006941</td>\n",
       "      <td>0.082481</td>\n",
       "      <td>0.089069</td>\n",
       "    </tr>\n",
       "    <tr>\n",
       "      <th>Humidity9am</th>\n",
       "      <td>-0.179373</td>\n",
       "      <td>-0.499327</td>\n",
       "      <td>0.266069</td>\n",
       "      <td>-0.555146</td>\n",
       "      <td>-0.500839</td>\n",
       "      <td>0.096741</td>\n",
       "      <td>-0.194734</td>\n",
       "      <td>0.164822</td>\n",
       "      <td>0.053275</td>\n",
       "      <td>-0.235897</td>\n",
       "      <td>...</td>\n",
       "      <td>1.000000</td>\n",
       "      <td>0.686296</td>\n",
       "      <td>0.116938</td>\n",
       "      <td>0.174769</td>\n",
       "      <td>0.437816</td>\n",
       "      <td>0.349572</td>\n",
       "      <td>-0.427440</td>\n",
       "      <td>-0.490470</td>\n",
       "      <td>0.379346</td>\n",
       "      <td>0.268718</td>\n",
       "    </tr>\n",
       "    <tr>\n",
       "      <th>Humidity3pm</th>\n",
       "      <td>0.071178</td>\n",
       "      <td>-0.449370</td>\n",
       "      <td>0.277208</td>\n",
       "      <td>-0.421819</td>\n",
       "      <td>-0.630979</td>\n",
       "      <td>0.056108</td>\n",
       "      <td>-0.043712</td>\n",
       "      <td>0.193513</td>\n",
       "      <td>-0.004447</td>\n",
       "      <td>-0.059825</td>\n",
       "      <td>...</td>\n",
       "      <td>0.686296</td>\n",
       "      <td>1.000000</td>\n",
       "      <td>-0.061771</td>\n",
       "      <td>0.025645</td>\n",
       "      <td>0.510539</td>\n",
       "      <td>0.512872</td>\n",
       "      <td>-0.151780</td>\n",
       "      <td>-0.497937</td>\n",
       "      <td>0.387228</td>\n",
       "      <td>0.457363</td>\n",
       "    </tr>\n",
       "    <tr>\n",
       "      <th>Pressure9am</th>\n",
       "      <td>-0.475750</td>\n",
       "      <td>-0.351927</td>\n",
       "      <td>-0.179660</td>\n",
       "      <td>-0.295217</td>\n",
       "      <td>0.044009</td>\n",
       "      <td>-0.118947</td>\n",
       "      <td>-0.432358</td>\n",
       "      <td>-0.035093</td>\n",
       "      <td>-0.119656</td>\n",
       "      <td>-0.205797</td>\n",
       "      <td>...</td>\n",
       "      <td>0.116938</td>\n",
       "      <td>-0.061771</td>\n",
       "      <td>1.000000</td>\n",
       "      <td>0.961625</td>\n",
       "      <td>-0.149203</td>\n",
       "      <td>-0.168645</td>\n",
       "      <td>-0.444404</td>\n",
       "      <td>-0.311590</td>\n",
       "      <td>-0.185204</td>\n",
       "      <td>-0.256016</td>\n",
       "    </tr>\n",
       "    <tr>\n",
       "      <th>Pressure3pm</th>\n",
       "      <td>-0.495688</td>\n",
       "      <td>-0.452356</td>\n",
       "      <td>-0.137413</td>\n",
       "      <td>-0.323218</td>\n",
       "      <td>-0.020666</td>\n",
       "      <td>-0.023052</td>\n",
       "      <td>-0.386223</td>\n",
       "      <td>0.058863</td>\n",
       "      <td>-0.021417</td>\n",
       "      <td>-0.159957</td>\n",
       "      <td>...</td>\n",
       "      <td>0.174769</td>\n",
       "      <td>0.025645</td>\n",
       "      <td>0.961625</td>\n",
       "      <td>1.000000</td>\n",
       "      <td>-0.081613</td>\n",
       "      <td>-0.105093</td>\n",
       "      <td>-0.501488</td>\n",
       "      <td>-0.421935</td>\n",
       "      <td>-0.103592</td>\n",
       "      <td>-0.231655</td>\n",
       "    </tr>\n",
       "    <tr>\n",
       "      <th>Cloud9am</th>\n",
       "      <td>0.105337</td>\n",
       "      <td>-0.265224</td>\n",
       "      <td>0.218027</td>\n",
       "      <td>-0.201905</td>\n",
       "      <td>-0.679331</td>\n",
       "      <td>0.079628</td>\n",
       "      <td>0.087028</td>\n",
       "      <td>0.115079</td>\n",
       "      <td>0.045142</td>\n",
       "      <td>0.036591</td>\n",
       "      <td>...</td>\n",
       "      <td>0.437816</td>\n",
       "      <td>0.510539</td>\n",
       "      <td>-0.149203</td>\n",
       "      <td>-0.081613</td>\n",
       "      <td>1.000000</td>\n",
       "      <td>0.616704</td>\n",
       "      <td>-0.111079</td>\n",
       "      <td>-0.282617</td>\n",
       "      <td>0.295526</td>\n",
       "      <td>0.324639</td>\n",
       "    </tr>\n",
       "    <tr>\n",
       "      <th>Cloud3pm</th>\n",
       "      <td>0.042250</td>\n",
       "      <td>-0.259280</td>\n",
       "      <td>0.189895</td>\n",
       "      <td>-0.205095</td>\n",
       "      <td>-0.701748</td>\n",
       "      <td>0.082589</td>\n",
       "      <td>0.130925</td>\n",
       "      <td>0.075895</td>\n",
       "      <td>0.058255</td>\n",
       "      <td>0.062770</td>\n",
       "      <td>...</td>\n",
       "      <td>0.349572</td>\n",
       "      <td>0.512872</td>\n",
       "      <td>-0.168645</td>\n",
       "      <td>-0.105093</td>\n",
       "      <td>0.616704</td>\n",
       "      <td>1.000000</td>\n",
       "      <td>-0.108669</td>\n",
       "      <td>-0.299032</td>\n",
       "      <td>0.269620</td>\n",
       "      <td>0.389535</td>\n",
       "    </tr>\n",
       "    <tr>\n",
       "      <th>Temp9am</th>\n",
       "      <td>0.906197</td>\n",
       "      <td>0.893234</td>\n",
       "      <td>0.014806</td>\n",
       "      <td>0.593329</td>\n",
       "      <td>0.288840</td>\n",
       "      <td>-0.231600</td>\n",
       "      <td>0.090532</td>\n",
       "      <td>-0.150793</td>\n",
       "      <td>-0.210929</td>\n",
       "      <td>0.057265</td>\n",
       "      <td>...</td>\n",
       "      <td>-0.427440</td>\n",
       "      <td>-0.151780</td>\n",
       "      <td>-0.444404</td>\n",
       "      <td>-0.501488</td>\n",
       "      <td>-0.111079</td>\n",
       "      <td>-0.108669</td>\n",
       "      <td>1.000000</td>\n",
       "      <td>0.870522</td>\n",
       "      <td>-0.096081</td>\n",
       "      <td>-0.016661</td>\n",
       "    </tr>\n",
       "    <tr>\n",
       "      <th>Temp3pm</th>\n",
       "      <td>0.726630</td>\n",
       "      <td>0.984749</td>\n",
       "      <td>-0.070809</td>\n",
       "      <td>0.630329</td>\n",
       "      <td>0.487104</td>\n",
       "      <td>-0.258013</td>\n",
       "      <td>0.004947</td>\n",
       "      <td>-0.253890</td>\n",
       "      <td>-0.211770</td>\n",
       "      <td>-0.013831</td>\n",
       "      <td>...</td>\n",
       "      <td>-0.490470</td>\n",
       "      <td>-0.497937</td>\n",
       "      <td>-0.311590</td>\n",
       "      <td>-0.421935</td>\n",
       "      <td>-0.282617</td>\n",
       "      <td>-0.299032</td>\n",
       "      <td>0.870522</td>\n",
       "      <td>1.000000</td>\n",
       "      <td>-0.226303</td>\n",
       "      <td>-0.184482</td>\n",
       "    </tr>\n",
       "    <tr>\n",
       "      <th>RainToday</th>\n",
       "      <td>0.050161</td>\n",
       "      <td>-0.219913</td>\n",
       "      <td>0.551606</td>\n",
       "      <td>-0.214667</td>\n",
       "      <td>-0.327794</td>\n",
       "      <td>0.145869</td>\n",
       "      <td>0.144468</td>\n",
       "      <td>0.179094</td>\n",
       "      <td>0.122826</td>\n",
       "      <td>0.084301</td>\n",
       "      <td>...</td>\n",
       "      <td>0.379346</td>\n",
       "      <td>0.387228</td>\n",
       "      <td>-0.185204</td>\n",
       "      <td>-0.103592</td>\n",
       "      <td>0.295526</td>\n",
       "      <td>0.269620</td>\n",
       "      <td>-0.096081</td>\n",
       "      <td>-0.226303</td>\n",
       "      <td>1.000000</td>\n",
       "      <td>0.308950</td>\n",
       "    </tr>\n",
       "    <tr>\n",
       "      <th>RainTomorrow</th>\n",
       "      <td>0.089103</td>\n",
       "      <td>-0.148378</td>\n",
       "      <td>0.252166</td>\n",
       "      <td>-0.127729</td>\n",
       "      <td>-0.453077</td>\n",
       "      <td>0.059399</td>\n",
       "      <td>0.235525</td>\n",
       "      <td>0.036240</td>\n",
       "      <td>0.029250</td>\n",
       "      <td>0.083964</td>\n",
       "      <td>...</td>\n",
       "      <td>0.268718</td>\n",
       "      <td>0.457363</td>\n",
       "      <td>-0.256016</td>\n",
       "      <td>-0.231655</td>\n",
       "      <td>0.324639</td>\n",
       "      <td>0.389535</td>\n",
       "      <td>-0.016661</td>\n",
       "      <td>-0.184482</td>\n",
       "      <td>0.308950</td>\n",
       "      <td>1.000000</td>\n",
       "    </tr>\n",
       "  </tbody>\n",
       "</table>\n",
       "<p>21 rows × 21 columns</p>\n",
       "</div>"
      ],
      "text/plain": [
       "                MinTemp   MaxTemp  Rainfall  Evaporation  Sunshine  \\\n",
       "MinTemp        1.000000  0.748780  0.113038     0.505101  0.074480   \n",
       "MaxTemp        0.748780  1.000000 -0.066856     0.650770  0.464806   \n",
       "Rainfall       0.113038 -0.066856  1.000000    -0.072218 -0.245344   \n",
       "Evaporation    0.505101  0.650770 -0.072218     1.000000  0.369179   \n",
       "Sunshine       0.074480  0.464806 -0.245344     0.369179  1.000000   \n",
       "WindGustDir   -0.189580 -0.243556  0.065891    -0.105604 -0.089226   \n",
       "WindGustSpeed  0.121208  0.041389  0.105231     0.208636 -0.050373   \n",
       "WindDir9am    -0.057162 -0.247102  0.092859    -0.132117 -0.114520   \n",
       "WindDir3pm    -0.194467 -0.198270  0.054474    -0.069735 -0.048716   \n",
       "WindSpeed9am   0.112847 -0.003978  0.049535     0.192445 -0.013211   \n",
       "WindSpeed3pm   0.138523  0.014827  0.042067     0.126156  0.033189   \n",
       "Humidity9am   -0.179373 -0.499327  0.266069    -0.555146 -0.500839   \n",
       "Humidity3pm    0.071178 -0.449370  0.277208    -0.421819 -0.630979   \n",
       "Pressure9am   -0.475750 -0.351927 -0.179660    -0.295217  0.044009   \n",
       "Pressure3pm   -0.495688 -0.452356 -0.137413    -0.323218 -0.020666   \n",
       "Cloud9am       0.105337 -0.265224  0.218027    -0.201905 -0.679331   \n",
       "Cloud3pm       0.042250 -0.259280  0.189895    -0.205095 -0.701748   \n",
       "Temp9am        0.906197  0.893234  0.014806     0.593329  0.288840   \n",
       "Temp3pm        0.726630  0.984749 -0.070809     0.630329  0.487104   \n",
       "RainToday      0.050161 -0.219913  0.551606    -0.214667 -0.327794   \n",
       "RainTomorrow   0.089103 -0.148378  0.252166    -0.127729 -0.453077   \n",
       "\n",
       "               WindGustDir  WindGustSpeed  WindDir9am  WindDir3pm  \\\n",
       "MinTemp          -0.189580       0.121208   -0.057162   -0.194467   \n",
       "MaxTemp          -0.243556       0.041389   -0.247102   -0.198270   \n",
       "Rainfall          0.065891       0.105231    0.092859    0.054474   \n",
       "Evaporation      -0.105604       0.208636   -0.132117   -0.069735   \n",
       "Sunshine         -0.089226      -0.050373   -0.114520   -0.048716   \n",
       "WindGustDir       1.000000       0.118357    0.426915    0.617301   \n",
       "WindGustSpeed     0.118357       1.000000    0.019504    0.113333   \n",
       "WindDir9am        0.426915       0.019504    1.000000    0.316115   \n",
       "WindDir3pm        0.617301       0.113333    0.316115    1.000000   \n",
       "WindSpeed9am      0.007309       0.606789   -0.011600    0.031880   \n",
       "WindSpeed3pm      0.086596       0.684301    0.090671    0.065268   \n",
       "Humidity9am       0.096741      -0.194734    0.164822    0.053275   \n",
       "Humidity3pm       0.056108      -0.043712    0.193513   -0.004447   \n",
       "Pressure9am      -0.118947      -0.432358   -0.035093   -0.119656   \n",
       "Pressure3pm      -0.023052      -0.386223    0.058863   -0.021417   \n",
       "Cloud9am          0.079628       0.087028    0.115079    0.045142   \n",
       "Cloud3pm          0.082589       0.130925    0.075895    0.058255   \n",
       "Temp9am          -0.231600       0.090532   -0.150793   -0.210929   \n",
       "Temp3pm          -0.258013       0.004947   -0.253890   -0.211770   \n",
       "RainToday         0.145869       0.144468    0.179094    0.122826   \n",
       "RainTomorrow      0.059399       0.235525    0.036240    0.029250   \n",
       "\n",
       "               WindSpeed9am      ...       Humidity9am  Humidity3pm  \\\n",
       "MinTemp            0.112847      ...         -0.179373     0.071178   \n",
       "MaxTemp           -0.003978      ...         -0.499327    -0.449370   \n",
       "Rainfall           0.049535      ...          0.266069     0.277208   \n",
       "Evaporation        0.192445      ...         -0.555146    -0.421819   \n",
       "Sunshine          -0.013211      ...         -0.500839    -0.630979   \n",
       "WindGustDir        0.007309      ...          0.096741     0.056108   \n",
       "WindGustSpeed      0.606789      ...         -0.194734    -0.043712   \n",
       "WindDir9am        -0.011600      ...          0.164822     0.193513   \n",
       "WindDir3pm         0.031880      ...          0.053275    -0.004447   \n",
       "WindSpeed9am       1.000000      ...         -0.235897    -0.059825   \n",
       "WindSpeed3pm       0.502742      ...         -0.100702     0.031559   \n",
       "Humidity9am       -0.235897      ...          1.000000     0.686296   \n",
       "Humidity3pm       -0.059825      ...          0.686296     1.000000   \n",
       "Pressure9am       -0.205797      ...          0.116938    -0.061771   \n",
       "Pressure3pm       -0.159957      ...          0.174769     0.025645   \n",
       "Cloud9am           0.036591      ...          0.437816     0.510539   \n",
       "Cloud3pm           0.062770      ...          0.349572     0.512872   \n",
       "Temp9am            0.057265      ...         -0.427440    -0.151780   \n",
       "Temp3pm           -0.013831      ...         -0.490470    -0.497937   \n",
       "RainToday          0.084301      ...          0.379346     0.387228   \n",
       "RainTomorrow       0.083964      ...          0.268718     0.457363   \n",
       "\n",
       "               Pressure9am  Pressure3pm  Cloud9am  Cloud3pm   Temp9am  \\\n",
       "MinTemp          -0.475750    -0.495688  0.105337  0.042250  0.906197   \n",
       "MaxTemp          -0.351927    -0.452356 -0.265224 -0.259280  0.893234   \n",
       "Rainfall         -0.179660    -0.137413  0.218027  0.189895  0.014806   \n",
       "Evaporation      -0.295217    -0.323218 -0.201905 -0.205095  0.593329   \n",
       "Sunshine          0.044009    -0.020666 -0.679331 -0.701748  0.288840   \n",
       "WindGustDir      -0.118947    -0.023052  0.079628  0.082589 -0.231600   \n",
       "WindGustSpeed    -0.432358    -0.386223  0.087028  0.130925  0.090532   \n",
       "WindDir9am       -0.035093     0.058863  0.115079  0.075895 -0.150793   \n",
       "WindDir3pm       -0.119656    -0.021417  0.045142  0.058255 -0.210929   \n",
       "WindSpeed9am     -0.205797    -0.159957  0.036591  0.062770  0.057265   \n",
       "WindSpeed3pm     -0.295670    -0.255120  0.065102  0.040722  0.116293   \n",
       "Humidity9am       0.116938     0.174769  0.437816  0.349572 -0.427440   \n",
       "Humidity3pm      -0.061771     0.025645  0.510539  0.512872 -0.151780   \n",
       "Pressure9am       1.000000     0.961625 -0.149203 -0.168645 -0.444404   \n",
       "Pressure3pm       0.961625     1.000000 -0.081613 -0.105093 -0.501488   \n",
       "Cloud9am         -0.149203    -0.081613  1.000000  0.616704 -0.111079   \n",
       "Cloud3pm         -0.168645    -0.105093  0.616704  1.000000 -0.108669   \n",
       "Temp9am          -0.444404    -0.501488 -0.111079 -0.108669  1.000000   \n",
       "Temp3pm          -0.311590    -0.421935 -0.282617 -0.299032  0.870522   \n",
       "RainToday        -0.185204    -0.103592  0.295526  0.269620 -0.096081   \n",
       "RainTomorrow     -0.256016    -0.231655  0.324639  0.389535 -0.016661   \n",
       "\n",
       "                Temp3pm  RainToday  RainTomorrow  \n",
       "MinTemp        0.726630   0.050161      0.089103  \n",
       "MaxTemp        0.984749  -0.219913     -0.148378  \n",
       "Rainfall      -0.070809   0.551606      0.252166  \n",
       "Evaporation    0.630329  -0.214667     -0.127729  \n",
       "Sunshine       0.487104  -0.327794     -0.453077  \n",
       "WindGustDir   -0.258013   0.145869      0.059399  \n",
       "WindGustSpeed  0.004947   0.144468      0.235525  \n",
       "WindDir9am    -0.253890   0.179094      0.036240  \n",
       "WindDir3pm    -0.211770   0.122826      0.029250  \n",
       "WindSpeed9am  -0.013831   0.084301      0.083964  \n",
       "WindSpeed3pm  -0.006941   0.082481      0.089069  \n",
       "Humidity9am   -0.490470   0.379346      0.268718  \n",
       "Humidity3pm   -0.497937   0.387228      0.457363  \n",
       "Pressure9am   -0.311590  -0.185204     -0.256016  \n",
       "Pressure3pm   -0.421935  -0.103592     -0.231655  \n",
       "Cloud9am      -0.282617   0.295526      0.324639  \n",
       "Cloud3pm      -0.299032   0.269620      0.389535  \n",
       "Temp9am        0.870522  -0.096081     -0.016661  \n",
       "Temp3pm        1.000000  -0.226303     -0.184482  \n",
       "RainToday     -0.226303   1.000000      0.308950  \n",
       "RainTomorrow  -0.184482   0.308950      1.000000  \n",
       "\n",
       "[21 rows x 21 columns]"
      ]
     },
     "execution_count": 21,
     "metadata": {
      "tags": []
     },
     "output_type": "execute_result"
    }
   ],
   "source": [
    "rain.corr()"
   ]
  },
  {
   "cell_type": "markdown",
   "metadata": {
    "colab_type": "text",
    "id": "cTLSb9tij-TK"
   },
   "source": [
    "# Pairing Features with the Highest Correlations\n",
    "\n",
    "\n"
   ]
  },
  {
   "cell_type": "code",
   "execution_count": 0,
   "metadata": {
    "colab": {
     "base_uri": "https://localhost:8080/",
     "height": 269
    },
    "colab_type": "code",
    "executionInfo": {
     "elapsed": 1550,
     "status": "ok",
     "timestamp": 1555451186016,
     "user": {
      "displayName": "Jenny Huang",
      "photoUrl": "",
      "userId": "02913568749514153326"
     },
     "user_tz": 240
    },
    "id": "psRNjz76Hdqj",
    "outputId": "b09dbddb-f178-416b-d623-a6306708059d"
   },
   "outputs": [
    {
     "data": {
      "image/png": "[encoded data removed]",
      "text/plain": [
       "<Figure size 432x288 with 1 Axes>"
      ]
     },
     "metadata": {
      "tags": []
     },
     "output_type": "display_data"
    }
   ],
   "source": [
    "rain = rain.dropna()\n",
    "plt.scatter(rain['Temp9am'], rain['MinTemp'])\n",
    "plt.show()"
   ]
  },
  {
   "cell_type": "code",
   "execution_count": 0,
   "metadata": {
    "colab": {
     "base_uri": "https://localhost:8080/",
     "height": 269
    },
    "colab_type": "code",
    "executionInfo": {
     "elapsed": 1061,
     "status": "ok",
     "timestamp": 1555451189441,
     "user": {
      "displayName": "Jenny Huang",
      "photoUrl": "",
      "userId": "02913568749514153326"
     },
     "user_tz": 240
    },
    "id": "ivmnK-KFI7Hw",
    "outputId": "b5445a45-f292-41ff-bd85-ddaa2be7b036"
   },
   "outputs": [
    {
     "data": {
      "image/png": "[encoded data removed]",
      "text/plain": [
       "<Figure size 432x288 with 1 Axes>"
      ]
     },
     "metadata": {
      "tags": []
     },
     "output_type": "display_data"
    }
   ],
   "source": [
    "plt.scatter(rain['Temp9am'], rain['MaxTemp'])\n",
    "plt.show()"
   ]
  },
  {
   "cell_type": "code",
   "execution_count": 0,
   "metadata": {
    "colab": {},
    "colab_type": "code",
    "id": "2pcxoLsnJOF_"
   },
   "outputs": [],
   "source": [
    "X_data = rain[['Temp9am']] # must be a dataframe for linear regression\n",
    "Y_data = rain['MinTemp']"
   ]
  },
  {
   "cell_type": "code",
   "execution_count": 0,
   "metadata": {
    "colab": {},
    "colab_type": "code",
    "id": "IkQpnCxkJaiT"
   },
   "outputs": [],
   "source": [
    "x_train, x_test, y_train, y_test = train_test_split(X_data, Y_data, test_size=0.2, random_state=1) # how to split the data using an sklearn function"
   ]
  },
  {
   "cell_type": "code",
   "execution_count": 0,
   "metadata": {
    "colab": {
     "base_uri": "https://localhost:8080/",
     "height": 217
    },
    "colab_type": "code",
    "executionInfo": {
     "elapsed": 398,
     "status": "error",
     "timestamp": 1555451195357,
     "user": {
      "displayName": "Jenny Huang",
      "photoUrl": "",
      "userId": "02913568749514153326"
     },
     "user_tz": 240
    },
    "id": "XBRs-8sjJsAh",
    "outputId": "49e8cf19-60fa-446e-e8cb-db3e681d5fe0"
   },
   "outputs": [
    {
     "ename": "NameError",
     "evalue": "ignored",
     "output_type": "error",
     "traceback": [
      "\u001b[0;31m---------------------------------------------------------------------------\u001b[0m",
      "\u001b[0;31mNameError\u001b[0m                                 Traceback (most recent call last)",
      "\u001b[0;32m<ipython-input-20-eb0cfae45786>\u001b[0m in \u001b[0;36m<module>\u001b[0;34m()\u001b[0m\n\u001b[1;32m      1\u001b[0m \u001b[0mlin\u001b[0m \u001b[0;34m=\u001b[0m \u001b[0mLinearRegression\u001b[0m\u001b[0;34m(\u001b[0m\u001b[0;34m)\u001b[0m\u001b[0;34m\u001b[0m\u001b[0;34m\u001b[0m\u001b[0m\n\u001b[0;32m----> 2\u001b[0;31m \u001b[0mlin\u001b[0m\u001b[0;34m.\u001b[0m\u001b[0mfit\u001b[0m\u001b[0;34m(\u001b[0m\u001b[0mx_train\u001b[0m\u001b[0;34m,\u001b[0m \u001b[0my_train\u001b[0m\u001b[0;34m)\u001b[0m\u001b[0;34m\u001b[0m\u001b[0;34m\u001b[0m\u001b[0m\n\u001b[0m\u001b[1;32m      3\u001b[0m \u001b[0mprint\u001b[0m\u001b[0;34m(\u001b[0m\u001b[0mlin\u001b[0m\u001b[0;34m.\u001b[0m\u001b[0mcoef_\u001b[0m\u001b[0;34m)\u001b[0m\u001b[0;34m\u001b[0m\u001b[0;34m\u001b[0m\u001b[0m\n\u001b[1;32m      4\u001b[0m \u001b[0mprint\u001b[0m\u001b[0;34m(\u001b[0m\u001b[0mlin\u001b[0m\u001b[0;34m.\u001b[0m\u001b[0mintercept_\u001b[0m\u001b[0;34m)\u001b[0m\u001b[0;34m\u001b[0m\u001b[0;34m\u001b[0m\u001b[0m\n",
      "\u001b[0;31mNameError\u001b[0m: name 'x_train' is not defined"
     ]
    }
   ],
   "source": [
    "lin = LinearRegression()\n",
    "lin.fit(x_train, y_train)\n",
    "print(lin.coef_)\n",
    "print(lin.intercept_)"
   ]
  },
  {
   "cell_type": "code",
   "execution_count": 0,
   "metadata": {
    "colab": {},
    "colab_type": "code",
    "id": "4HvnvCEXKEDl"
   },
   "outputs": [],
   "source": [
    "lin.predict(x_train)"
   ]
  },
  {
   "cell_type": "code",
   "execution_count": 0,
   "metadata": {
    "colab": {},
    "colab_type": "code",
    "id": "9v5ZMWvLKG1s"
   },
   "outputs": [],
   "source": [
    "print(r2_score(lin.predict(x_train), y_train))\n",
    "\n",
    "# the default .score() method of a regression model is r2_score\n",
    "# so here is another way to see the r^2 score\n",
    "print(lin.score(x_train, y_train))"
   ]
  },
  {
   "cell_type": "markdown",
   "metadata": {
    "colab_type": "text",
    "id": "gvrLri-acleU"
   },
   "source": [
    "The DummyClassifier doesn't use any of the columns as features"
   ]
  },
  {
   "cell_type": "code",
   "execution_count": 0,
   "metadata": {
    "colab": {},
    "colab_type": "code",
    "id": "N7NY86DiQX9a"
   },
   "outputs": [],
   "source": [
    "clf = DummyClassifier() \n",
    "clf.fit(X_train, y_train)"
   ]
  },
  {
   "cell_type": "code",
   "execution_count": 0,
   "metadata": {
    "colab": {},
    "colab_type": "code",
    "id": "43XsRV8fQX9d"
   },
   "outputs": [],
   "source": [
    "clf.predict(X_test)"
   ]
  },
  {
   "cell_type": "code",
   "execution_count": 0,
   "metadata": {
    "colab": {},
    "colab_type": "code",
    "id": "FO59EcQOQX9m"
   },
   "outputs": [],
   "source": [
    "clf.score(X_test, y_test)  "
   ]
  },
  {
   "cell_type": "markdown",
   "metadata": {
    "colab_type": "text",
    "id": "E0-L8qEqbGj1"
   },
   "source": [
    "**Adding new data columns **"
   ]
  },
  {
   "cell_type": "markdown",
   "metadata": {
    "colab_type": "text",
    "id": "ZskALJo7kHmg"
   },
   "source": [
    "# Results\n",
    "\n",
    "##Scores of using each method\n",
    "\n",
    "Decision Tree: 0.8503556910569106 \\\\\n",
    "Decision Tree (Top 5 Importances):  0.8407012195121951 \\\\\n",
    "Linear Regression: 0.820536950500822"
   ]
  },
  {
   "cell_type": "markdown",
   "metadata": {
    "colab_type": "text",
    "id": "8YvcJQVbQX9p"
   },
   "source": [
    "# Submitting\n",
    "\n",
    "## Your submission will be a function called `submission()`\n",
    "- `submission()` should take in 1 parameter, `test_dataset_filename`\n",
    "    - this is the filename of a csv with the same format as `node_s19_ml_competition_train.csv`\n",
    "    \n",
    "    \n",
    "- `submission()` should be a self contained function that does not rely on any outside variables\n",
    "\n",
    "\n",
    "- `submission()` will train your model using the data in `node_s19_ml_competition_train.csv` and then evaluate it on the data contained in `node_s19_ml_competition_test.csv` (hidden)\n",
    "\n",
    "\n",
    "- `submission()` should return the accuracy of your model on the dataset in `test_dataset_filename`\n",
    "\n",
    "\n",
    "- We highly recommend creating a `preprocess()` function that takes in an uncleaned dataframe and returns a dataframe with all the necessary modifications for use in your model\n",
    "    - We recommend creating a function because both the train ***AND*** the test datasets need to go through the same preprocessing steps\n",
    "\n",
    "\n",
    "**Below is an example submission using `sklearn`'s `DummyClassifier`:**"
   ]
  },
  {
   "cell_type": "code",
   "execution_count": 0,
   "metadata": {
    "colab": {},
    "colab_type": "code",
    "id": "XrRlw1jhQX9q"
   },
   "outputs": [],
   "source": [
    "def preprocess(df_raw):\n",
    "    \"\"\"\n",
    "    Change this method and add all of your preprocessing functions\n",
    "    \n",
    "    Could include picking/creating features, cleaning data, and \n",
    "    doing one-hot encoding\n",
    "    \"\"\"\n",
    "  \n",
    "    rain = rain_raw.drop(\"Date\", axis=1).dropna()    \n",
    "    \n",
    "    \n",
    "    df[\"WindDir9am\"] = df[\"WindDir9am\"].astype('category')\n",
    "    df[\"WindGustDir\"] = df[\"WindGustDir\"].astype('category')\n",
    "    df[\"WindDir3pm\"] = df[\"WindDir3pm\"].astype('category')\n",
    "    df[\"RainToday\"] = df[\"RainToday\"].astype('category')\n",
    "    df[\"RainTomorrow\"] = df[\"RainTomorrow\"].astype('category')\n",
    "\n",
    "    df[\"WindDir9am\"] = df[\"WindDir9am\"].cat.codes\n",
    "    df[\"WindGustDir\"] = df[\"WindGustDir\"].cat.codes\n",
    "    df[\"WindDir3pm\"] = df[\"WindDir3pm\"].cat.codes\n",
    "    df[\"RainToday\"] = df[\"RainToday\"].cat.codes\n",
    "    df[\"RainTomorrow\"] = df[\"RainTomorrow\"].cat.codes\n",
    "    \n",
    "    return df"
   ]
  },
  {
   "cell_type": "code",
   "execution_count": 0,
   "metadata": {
    "colab": {},
    "colab_type": "code",
    "id": "-GcuGI4WEsLa"
   },
   "outputs": [],
   "source": [
    "def submission():\n",
    "    \"\"\"\n",
    "    This method won't work as-is on Colab because you don't have the\n",
    "    'node_s19_ml_competition_test.csv' file. You could test it by creating\n",
    "    a dummy file with that name, but we can debug it if you submit\n",
    "    it and it doesn't work :)\n",
    "    \n",
    "    Please do most of your work in the preprocess() function! In this \n",
    "    function, you should only change the \"DummyClassifier()\" to the model\n",
    "    that you are using.\n",
    "    \"\"\"\n",
    "  \n",
    "  \n",
    "    rain_raw = pd.read_csv('node_s19_ml_competition_train.csv')\n",
    "    \n",
    "    rain = preprocess(rain_raw)\n",
    "    \n",
    "    X = rain.drop('RainTomorrow', axis=1)\n",
    "    y = rain['RainTomorrow']\n",
    "    \n",
    "    X_train, X_test, y_train, y_test = train_test_split(X, y, test_size=0.2, random_state=42)\n",
    "    \n",
    "        # model\n",
    "    tree = DecisionTreeClassifier()\n",
    "\n",
    "    # train\n",
    "    tree.fit(X_train, y_train)\n",
    "\n",
    "    \n",
    "    \n",
    "        # model\n",
    "    forest = RandomForestClassifier(criterion = 'entropy')\n",
    "\n",
    "    # train\n",
    "    forest.fit(X_train, y_train)\n",
    "\n",
    "    # predict\n",
    "    forest_predictions = forest.predict(X_test)\n",
    "\n",
    "    # feature importances\n",
    "#     print(pd.DataFrame({'Importance': forest.feature_importances_}, index = X_train.columns).sort_values('Importance', ascending = False))\n",
    "\n",
    "    # confusion matrix\n",
    "    pd.crosstab(y_test, forest_predictions, rownames=['Actual'], colnames = ['Predicted:'], margins = True)\n",
    "    \n",
    "    \n",
    "    fs1= forest.score(X_test, y_test) # mispredicted one sample. The random forest was worse than the single decision tree!\n",
    "    \n",
    "    X2 = X[['Humidity3pm','Sunshine','Pressure9am','Pressure3pm','Cloud3pm']]\n",
    "\n",
    "    X_train2, X_test2, y_train2, y_test2 = train_test_split(X2, y, test_size=0.2, random_state=42)\n",
    "    # model\n",
    "    tree = DecisionTreeClassifier()\n",
    "\n",
    "    # train\n",
    "    tree.fit(X_train2, y_train2)\n",
    "    \n",
    "        # model\n",
    "    forest = RandomForestClassifier(criterion = 'entropy')\n",
    "\n",
    "    # train\n",
    "    forest.fit(X_train2, y_train2)\n",
    "\n",
    "    # predict\n",
    "    forest_predictions = forest.predict(X_test2)\n",
    "\n",
    "    # feature importances\n",
    "#     print(pd.DataFrame({'Importance': forest.feature_importances_}, index = X_train2.columns).sort_values('Importance', ascending = False))\n",
    "\n",
    "    # confusion matrix\n",
    "    pd.crosstab(y_test2, forest_predictions, rownames=['Actual'], colnames = ['Predicted:'], margins = True)\n",
    "    \n",
    "    fs2 = forest.score(X_test2, y_test2) # mispredicted one sample. The random forest was worse than the single decision tree!\n",
    "    \n",
    "    return fs1,fs2\n",
    "    \n"
   ]
  },
  {
   "cell_type": "code",
   "execution_count": 0,
   "metadata": {
    "colab": {},
    "colab_type": "code",
    "id": "uoQ7Bo_pQX9s"
   },
   "outputs": [],
   "source": [
    "submission()"
   ]
  },
  {
   "cell_type": "markdown",
   "metadata": {
    "colab_type": "text",
    "id": "NC3B619JQX9v"
   },
   "source": [
    "# Data Reference\n",
    "## Columns\n",
    "- `Date`: The date of observation\n",
    "- `MinTemp`: The minimum temperature in degrees celsius\n",
    "- `MaxTemp`: The maximum temperature in degrees celsius\n",
    "- `Rainfall`: The amount of rainfall recorded for the day in mm\n",
    "- `Evaporation`: The so-called Class A pan evaporation (mm) in the 24 hours to 9am\n",
    "- `Sunshine`: The number of hours of bright sunshine in the day.\n",
    "- `WindGustDir`: The direction of the strongest wind gust in the 24 hours to midnight\n",
    "- `WindGustSpeed`: The speed (km/h) of the strongest wind gust in the 24 hours to midnight\n",
    "- `WindDir9am`: Direction of the wind at 9am\n",
    "- `WindDir3pm`: Direction of the wind at 3pm\n",
    "- `WindSpeed9am`: Wind speed (km/hr) averaged over 10 minutes prior to 9am\n",
    "- `WindSpeed3pm`: Wind speed (km/hr) averaged over 10 minutes prior to 3pm\n",
    "- `Humidity9am`: Humidity (percent) at 9am\n",
    "- `Humidity3pm`: Humidity (percent) at 3pm\n",
    "- `Pressure9am`: Atmospheric pressure (hpa) reduced to mean sea level at 9am\n",
    "- `Pressure3pm`: Atmospheric pressure (hpa) reduced to mean sea level at 3pm\n",
    "- `Cloud9am`: Fraction of sky obscured by cloud at 9am. This is measured in \"oktas\", which are a unit of eigths. It records how many eigths of the sky are obscured by cloud. A 0 measure indicates completely clear sky whilst an 8 indicates that it is completely overcast.\n",
    "- `Cloud3pm`: Fraction of sky obscured by cloud (in \"oktas\": eighths) at 3pm. See Cload9am for a description of the values\n",
    "- `Temp9am`: Temperature (degrees C) at 9am\n",
    "- `Temp3pm`: Temperature (degrees C) at 3pm\n",
    "- `RainToday`: Boolean: 1 if precipitation (mm) in the 24 hours to 9am exceeds 1mm, otherwise 0\n",
    "- `RainTomorrow`: ***The target variable***. Did it rain tomorrow?"
   ]
  },
  {
   "cell_type": "code",
   "execution_count": 0,
   "metadata": {
    "colab": {},
    "colab_type": "code",
    "id": "90Pc5nMQQX9v"
   },
   "outputs": [],
   "source": []
  }
 ],
 "metadata": {
  "colab": {
   "name": "Copy of START HERE - ML Competition Example Submission Node S19.ipynb",
   "provenance": [
    {
     "file_id": "1MJnpRA3tCUe1NJZrG9PlqQjKaGHyOEZw",
     "timestamp": 1553550312557
    }
   ],
   "version": "0.3.2"
  },
  "kernelspec": {
   "display_name": "Python 3",
   "language": "python",
   "name": "python3"
  },
  "language_info": {
   "codemirror_mode": {
    "name": "ipython",
    "version": 3
   },
   "file_extension": ".py",
   "mimetype": "text/x-python",
   "name": "python",
   "nbconvert_exporter": "python",
   "pygments_lexer": "ipython3",
   "version": "3.7.1"
  }
 },
 "nbformat": 4,
 "nbformat_minor": 1
}
